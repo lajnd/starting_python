{
 "cells": [
  {
   "cell_type": "markdown",
   "metadata": {},
   "source": [
    "# Python introduction\n",
    "## Week 2, Numpy and Pandas\n",
    "\n",
    "Now that you have been getting familiar with the basic idea of python, its time to dwelve a little deeper into one of the most important python packages for scientific computing: [NumPy](http://www.numpy.org/). NumPy contains many powerful tools for handling N-sized arrays, matrices, broadcasting as well as linear algebra and random generators. In the end of this notebook, we will show you some basic plotting functions regularly used for data visualization.\n",
    "\n",
    "Go through the notebook and make sure you understand every section before continuing.\n",
    "\n",
    "Credits: This tutorial is partly based on work by [Tomas Knapen and Daan van Es](https://tknapen.github.io) (VU University) and [Lukas Snoek](https://github.com/lukassnoek) (University of Amsterdam)."
   ]
  },
  {
   "cell_type": "markdown",
   "metadata": {},
   "source": [
    "## 1. Numpy"
   ]
  },
  {
   "cell_type": "markdown",
   "metadata": {},
   "source": [
    "This section is about Numpy, Python's core library for scientific computing. While the syntax of basic Python (as we've gone over in the previous section) is important to do data analysis in Python, knowing numpy is **essential**. The most important feature of Numpy is it's core data structure: the numpy *ndarray* (which stands for *n*-dimensional array, referring to the fact that the array may be of any dimension: 1D, 2D, 3D, 180D ... *n*D)."
   ]
  },
  {
   "cell_type": "markdown",
   "metadata": {},
   "source": [
    "### Python lists vs. numpy arrays"
   ]
  },
  {
   "cell_type": "markdown",
   "metadata": {},
   "source": [
    "Basically, numpy arrays are a lot like Python lists. The major difference, however, is that numpy arrays may contain only a single data-type, while Python lists may contain different data-types within the same list."
   ]
  },
  {
   "cell_type": "code",
   "execution_count": null,
   "metadata": {
    "collapsed": true
   },
   "outputs": [],
   "source": [
    "# this list contains mixed data-types: an integer, a float, a string, a list\n",
    "python_list = [1, 2.5, \"whatever\", [3, 4, 5]] \n",
    "\n",
    "for entry in python_list:\n",
    "    \n",
    "    print(entry)\n",
    "    print('this is a: {0}'.format(type(entry)))\n",
    "    print('\\n') # this prints an empty line (so that the printed statements are easier to read)"
   ]
  },
  {
   "cell_type": "markdown",
   "metadata": {},
   "source": [
    "Numpy thus only allows entries of the same data-type. This difference between Python lists and numpy arrays is basically the same as R lists (allow multiple data-types) versus R matrices/arrays (only allow one data type), and is also the same as MATLAB cells (allow multiple data-types) versus MATLAB matrices (only allow one data type).\n",
    "\n",
    "In fact, if you try to make a numpy array with different data-types, numpy will force the entries into the same data-type (in a smart way), as is shown in the example below:"
   ]
  },
  {
   "cell_type": "code",
   "execution_count": 1,
   "metadata": {
    "collapsed": false
   },
   "outputs": [
    {
     "name": "stdout",
     "output_type": "stream",
     "text": [
      "1.0\n",
      "this is a: <class 'numpy.float64'> \n",
      "\n",
      "2.0\n",
      "this is a: <class 'numpy.float64'> \n",
      "\n",
      "3.5\n",
      "this is a: <class 'numpy.float64'> \n",
      "\n"
     ]
    }
   ],
   "source": [
    "import numpy as np # this is how numpy is often imported\n",
    "\n",
    "# Importantly, you often specify your arrays as Python lists first, and then convert them to numpy\n",
    "to_convert_to_numpy = [1, 2, 3.5]               # specify python list ...\n",
    "numpy_array = np.array(to_convert_to_numpy)     # ... and convert ('cast') it to numpy\n",
    "\n",
    "for entry in numpy_array:\n",
    "    \n",
    "    print(entry)\n",
    "    print('this is a: {0} \\n'.format(type(entry)))"
   ]
  },
  {
   "cell_type": "markdown",
   "metadata": {},
   "source": [
    "As you can see, Numpy converted our original list (to_convert_to_numpy), which contained both integers and floats, to an array with only floats! \n",
    "\n",
    "You can turn an array to a different data type by using the astype-method:"
   ]
  },
  {
   "cell_type": "code",
   "execution_count": null,
   "metadata": {
    "collapsed": true,
    "scrolled": true
   },
   "outputs": [],
   "source": [
    "for entry in numpy_array.astype(int):\n",
    "    \n",
    "    print(entry)\n",
    "    print('this is a: {0} \\n'.format(type(entry)))"
   ]
  },
  {
   "cell_type": "markdown",
   "metadata": {},
   "source": [
    "You might think that such a data structure that only allows one single data type is not ideal. However, the very fact that it only contains a single data-type makes operations on numpy arrays extremely fast. For example, loops over numpy arrays are often way faster than loops over python lists. This is because, internally, Python has to check the data-type of each loop entry before doing something with that entry. Because numpy arrays allow a single data-type, it only has to check for the entries' data type **once**. If you imagine looping over an array or list of length 100,000, you probably understand that the numpy loop is way faster.\n",
    "\n",
    "Let's check out the speed difference between Python list operations and numpy array operations:"
   ]
  },
  {
   "cell_type": "code",
   "execution_count": null,
   "metadata": {
    "collapsed": true
   },
   "outputs": [],
   "source": [
    "# timeit is a cool 'feature' that you can use in Notebooks (no need to understand how it works)\n",
    "# it basically performs a computation that you specify a couple of times and prints how long it took on average\n",
    "%timeit a = [x * 2 for x in range(0, 100000)] # multiplies each entry in a list of 0 - 100,000 by two"
   ]
  },
  {
   "cell_type": "markdown",
   "metadata": {},
   "source": [
    "And now let's do the same with numpy:"
   ]
  },
  {
   "cell_type": "code",
   "execution_count": null,
   "metadata": {
    "collapsed": true
   },
   "outputs": [],
   "source": [
    "%timeit b = np.arange(0, 100000) * 2 # np.arange creates a np.array in the same way 'range' creates a Python list"
   ]
  },
  {
   "cell_type": "markdown",
   "metadata": {},
   "source": [
    "more than 10 times as fast! This really matters when you start doing more complex operations, on, let's say, very large datasets!"
   ]
  },
  {
   "cell_type": "markdown",
   "metadata": {},
   "source": [
    "### Numpy arrays: creation\n",
    "As shown ealier, numpy arrays can be created by defining a Python list and converting it to a numpy array explicitly.\n",
    "Importantly, a simple Python list will be converted to a 1D numpy array, but a nested Python list will be converted to a 2D (or even higher-dimensional array), as is shown here:"
   ]
  },
  {
   "cell_type": "code",
   "execution_count": null,
   "metadata": {
    "collapsed": true
   },
   "outputs": [],
   "source": [
    "my_list = [1, 2, 3]\n",
    "my_array = np.array(my_list)\n",
    "print(my_array)\n",
    "print('\\n')\n",
    "\n",
    "my_nested_list = [[1, 2, 3],\n",
    "                  [4, 5, 6],\n",
    "                  [7, 8, 9]]\n",
    "\n",
    "my_2D_array = np.array(my_nested_list)\n",
    "print(my_2D_array)"
   ]
  },
  {
   "cell_type": "markdown",
   "metadata": {},
   "source": [
    "As you can see, creating numpy arrays from nested lists becomes cumbersome if you want to create (large) arrays with more than 2 dimensions. There are, fortunately, a lot of other ways to create ('initialize') large, high-dimensional numpy arrays. One often-used method is to create an array with zeros using the numpy function `np.zeros`:"
   ]
  },
  {
   "cell_type": "code",
   "execution_count": null,
   "metadata": {
    "collapsed": true
   },
   "outputs": [],
   "source": [
    "my_desired_dimensions = (2, 5) # suppose I want to create a matrix with zeros of size 2 by 5\n",
    "my_array = np.zeros(my_desired_dimensions)\n",
    "\n",
    "print(my_array)"
   ]
  },
  {
   "cell_type": "markdown",
   "metadata": {},
   "source": [
    "Using arrays with zeros is often used in what is called 'pre-allocation', in which you create an 'empty' array with only zeros and, for example, 'fill' that array in a loop, as is done below:"
   ]
  },
  {
   "cell_type": "code",
   "execution_count": null,
   "metadata": {
    "collapsed": true
   },
   "outputs": [],
   "source": [
    "my_desired_dimensions = (5, 5)\n",
    "my_array = np.zeros(my_desired_dimensions)\n",
    "\n",
    "print('Original zeros-array')\n",
    "print(my_array)\n",
    "\n",
    "# make sure you understand what we're looping over - what is 'range(my_desired_dimensions[0])'?\n",
    "for i in range(my_desired_dimensions[0]):\n",
    "    \n",
    "    for ii in range(my_desired_dimensions[1]):\n",
    "        \n",
    "        my_array[i, ii] = (i + 1) * (ii + 1)\n",
    "\n",
    "print('\\nFilled array')\n",
    "print(my_array)"
   ]
  },
  {
   "cell_type": "markdown",
   "metadata": {},
   "source": [
    "**Important**: realize that loops (not shown above), if-statements and other boolean logic is the same for numpy and python!"
   ]
  },
  {
   "cell_type": "markdown",
   "metadata": {},
   "source": [
    "Also, you can create numpy arrays using other functions:"
   ]
  },
  {
   "cell_type": "code",
   "execution_count": null,
   "metadata": {
    "collapsed": true
   },
   "outputs": [],
   "source": [
    "ones = np.ones((5, 10)) # create an array with ones\n",
    "print(ones)\n",
    "\n",
    "rndom = np.random.random((5, 10)) # Create an array filled with random values\n",
    "print(rndom)"
   ]
  },
  {
   "cell_type": "markdown",
   "metadata": {},
   "source": [
    "<div class='alert alert-warning'>\n",
    "**ToDo**: Create a numpy array with zeros only of the dimensions: (5, 2, 4, 9). Print the dimensions by using the shape-attribute for your array\n",
    "</div>"
   ]
  },
  {
   "cell_type": "code",
   "execution_count": null,
   "metadata": {
    "collapsed": true
   },
   "outputs": [],
   "source": [
    "# Create the numpy array!"
   ]
  },
  {
   "cell_type": "markdown",
   "metadata": {},
   "source": [
    "### Numpy: indexing"
   ]
  },
  {
   "cell_type": "markdown",
   "metadata": {},
   "source": [
    "Indexing (extracting a single value of an array) and slicing (extracting multiple values - a subset - from an array) of numpy arrays is largely the same as other scientific computing languages such as R and MATLAB. Let's check out a 1D example:"
   ]
  },
  {
   "cell_type": "code",
   "execution_count": null,
   "metadata": {
    "collapsed": true
   },
   "outputs": [],
   "source": [
    "my_array = np.arange(10, 21) # similar to the python inherent range-function\n",
    "print 'Full array:'\n",
    "print(my_array) # make sure you understand why this array is from 10 - 20 (check the np.arange function using google!)\n",
    "\n",
    "print('\\nSeveral indices of my_array:')\n",
    "print(my_array[0])\n",
    "print(my_array[[0, 1]])\n",
    "print(my_array[[0, 1, 9]])\n",
    "print(my_array[5:8]) # from index 5 until (but NOT including) index 8\n",
    "print(my_array[:3]) # slice from index 0 until 3 (NOT including 3)"
   ]
  },
  {
   "cell_type": "markdown",
   "metadata": {},
   "source": [
    "Setting values in numpy arrays works the same way as lists:"
   ]
  },
  {
   "cell_type": "code",
   "execution_count": null,
   "metadata": {
    "collapsed": true
   },
   "outputs": [],
   "source": [
    "my_array[0] = 100000\n",
    "print(my_array)\n",
    "\n",
    "my_array[[3, -1]] = -100\n",
    "print('\\n')\n",
    "print(my_array)\n",
    "\n",
    "my_array[:-3] = 0 # can you figure out what this slice (:-3) does?\n",
    "print(my_array)"
   ]
  },
  {
   "cell_type": "markdown",
   "metadata": {},
   "source": [
    "Often, instead of working on and indexing 1D array, we'll work with multi-dimensional (>1D) arrays. Indexing multi-dimensional arrays is, again, quite similar to other scientific computing languages:"
   ]
  },
  {
   "cell_type": "code",
   "execution_count": null,
   "metadata": {
    "collapsed": true
   },
   "outputs": [],
   "source": [
    "my_array = np.zeros((3, 3)) # 3 by 3 array with zeros\n",
    "my_array[2, 2] = 1\n",
    "print(my_array)\n",
    "\n",
    "my_array[:, 0] = 100 # the ':' specifies ALL entries, so setting the entire first dimension (rows) to 100 \n",
    "print('\\n')\n",
    "print(my_array)"
   ]
  },
  {
   "cell_type": "markdown",
   "metadata": {},
   "source": [
    "<div class='alert alert-info'>\n",
    "**ToThink**: Make sure you understand why, in the first indexing operation (my_array[2, 2] = 1), the element in the *third* column and row is changed (and not the second).\n",
    "</div>"
   ]
  },
  {
   "cell_type": "markdown",
   "metadata": {},
   "source": [
    "In addition to setting specific slices to specific values, you can also extract sub-arrays using slicing/indexing:"
   ]
  },
  {
   "cell_type": "code",
   "execution_count": null,
   "metadata": {
    "collapsed": true
   },
   "outputs": [],
   "source": [
    "my_array = np.array([[1, 2, 3],\n",
    "                     [4, 5, 6],\n",
    "                     [7, 8, 9]])\n",
    "print(my_array)\n",
    "\n",
    "first_row = my_array[0, :]\n",
    "print('\\nFirst row')\n",
    "print(first_row)\n",
    "\n",
    "first_col = my_array[:, 0]\n",
    "print('\\nFirst column')\n",
    "print(first_col)"
   ]
  },
  {
   "cell_type": "markdown",
   "metadata": {},
   "source": [
    "Perhaps one of the most frequently used indexing in scientific computing is boolean indexing (also called 'masking'). In this type of indexing, you index an array with a boolean array (i.e. array with True and False values) of the same shape. Let's look at an example:"
   ]
  },
  {
   "cell_type": "code",
   "execution_count": null,
   "metadata": {
    "collapsed": true
   },
   "outputs": [],
   "source": [
    "my_array = np.array([[1, 2, 3],\n",
    "                     [4, 5, 6],\n",
    "                     [7, 8, 9]])\n",
    "\n",
    "print(my_array)\n",
    "\n",
    "bool_idx = my_array > 5\n",
    "print('\\nBoolean index corresponding to values in my_array larger than 5')\n",
    "print(bool_idx)\n",
    "\n",
    "print('\\nIndexing my_array with bool_idx:')\n",
    "print(my_array[bool_idx])"
   ]
  },
  {
   "cell_type": "markdown",
   "metadata": {},
   "source": [
    "<div class='alert alert-warning'>\n",
    "**ToDo**: Use a boolean index to extract all negative values from the matrix (my_matrix) below:\n",
    "</div>"
   ]
  },
  {
   "cell_type": "code",
   "execution_count": null,
   "metadata": {
    "collapsed": true
   },
   "outputs": [],
   "source": [
    "my_matrix = np.array([[0, 1, -1, -2],\n",
    "                      [2, -5, 1, 4],\n",
    "                      [10, -2, -4, 20]])\n",
    "\n",
    "# Make a new boolean index below ...\n",
    "\n",
    "# And use it to index my_matrix:\n"
   ]
  },
  {
   "cell_type": "markdown",
   "metadata": {},
   "source": [
    "### Numpy: data-types"
   ]
  },
  {
   "cell_type": "markdown",
   "metadata": {},
   "source": [
    "Every numpy array is a grid of elements of the same type. Numpy provides a large set of numeric datatypes that you can use to construct arrays. Numpy guesses the datatype when you create an array, but functions that construct arrays usually also include an optional argument to explicitly specify the datatype. Here is an example:"
   ]
  },
  {
   "cell_type": "code",
   "execution_count": null,
   "metadata": {
    "collapsed": true
   },
   "outputs": [],
   "source": [
    "x = np.array([1, 2])  # Let numpy choose the datatype (here: int)\n",
    "y = np.array([1.0, 2.0])  # Let numpy choose the datatype (here: float)\n",
    "z = np.array([1, 2], dtype=np.float64)  # Force a particular datatype (input: int, but converted to 64bit float)\n",
    "# Note that above line is similar to using the astype-method\n",
    "\n",
    "\n",
    "print(type(x[0]))\n",
    "print(type(y[0]))\n",
    "print(type(z[0]))"
   ]
  },
  {
   "cell_type": "markdown",
   "metadata": {},
   "source": [
    "You can read all about numpy datatypes in the [documentation](http://docs.scipy.org/doc/numpy/reference/arrays.dtypes.html)."
   ]
  },
  {
   "cell_type": "markdown",
   "metadata": {},
   "source": [
    "### Numpy: methods vs. functions\n",
    "In the previous section (Basic Python), you've learned that, in addition to functions, 'methods' exist that are like functions of an object. In other words, methods are functions that are applied to the object itself. You've seen examples of list methods, e.g. `my_list.append(1)`, and string methods, e.g. `my_string.count('b')`. Like lists and strings, numpy arrays have a lot of convenient methods that you can call. Again, this is just like a function, but then applied to itself. Often, numpy provides both a function and method for simple operations. Let's look at an example: "
   ]
  },
  {
   "cell_type": "code",
   "execution_count": null,
   "metadata": {
    "collapsed": true
   },
   "outputs": [],
   "source": [
    "my_array = np.arange(10)\n",
    "print(my_array)\n",
    "\n",
    "mean_array = np.mean(my_array)\n",
    "print('\\nThe mean of the array is: {0}'.format(mean_array))\n",
    "\n",
    "mean_array2 = my_array.mean() \n",
    "print('The mean of the array (computed by its corresponding method) is: {0}'.format(mean_array2))\n",
    "\n",
    "print('\\nIs the numpy function the same as the corresponding method? Answer: {0}'.format(str(mean_array == mean_array2)))"
   ]
  },
  {
   "cell_type": "markdown",
   "metadata": {},
   "source": [
    "If there is both a function and a method for the operation you want to apply to the array, it really doesn't matter what you choose! Let's look at some more (often used) methods of numpy ndarrays:"
   ]
  },
  {
   "cell_type": "code",
   "execution_count": null,
   "metadata": {
    "collapsed": true
   },
   "outputs": [],
   "source": [
    "my_array = np.array([[1, 2, 3],\n",
    "                     [4, 5, 6],\n",
    "                     [7, 8, 9]])\n",
    "\n",
    "print(my_array.std()) # standard deviation, same as np.std(array)\n",
    "print(my_array.T) # tranpose an array, same as np.transpose(array)\n",
    "print(my_array.diagonal()) # get the diagonal, same as np.diag(array)\n",
    "print(my_array.min()) # same as np.min(array)\n",
    "print(my_array.max()) # same as np.max(array)\n",
    "print(my_array.sum()) # same as np.sum(array)"
   ]
  },
  {
   "cell_type": "markdown",
   "metadata": {},
   "source": [
    "Importantly, a method may or may not take arguments (input).\n",
    "If no arguments are given, it just looks like \"object.method()\", i.e. two enclosing brackets with nothing in between.\n",
    "However, a method may take one or more arguments (like the my_list.append(1) method)! \n",
    "This argument may be named or unnamed - doesn't matter. An example:"
   ]
  },
  {
   "cell_type": "code",
   "execution_count": null,
   "metadata": {
    "collapsed": true
   },
   "outputs": [],
   "source": [
    "my_array2 = np.random.random((3, 3))\n",
    "print('Original array:')\n",
    "print(my_array2)\n",
    "\n",
    "print('\\nUse the round() method with the argument 3:')\n",
    "print(my_array2.round(3))\n",
    "print(my_array2.round(decimals=5))"
   ]
  },
  {
   "cell_type": "markdown",
   "metadata": {},
   "source": [
    "**Some methods that you'll see a lot in the upcoming tutorials**. In addition to the methods listed above, you'll probably see the following methods a lot in the rest of this course (make sure you understand them!):"
   ]
  },
  {
   "cell_type": "code",
   "execution_count": null,
   "metadata": {
    "collapsed": true
   },
   "outputs": [],
   "source": [
    "my_array = np.arange(10)\n",
    "print(my_array.reshape((5, 2))) # reshape to desired shape"
   ]
  },
  {
   "cell_type": "code",
   "execution_count": null,
   "metadata": {
    "collapsed": true
   },
   "outputs": [],
   "source": [
    "temporary = my_array.reshape((5, 2))\n",
    "print(temporary.ravel()) # unroll multi-dimensional array to single 1D array"
   ]
  },
  {
   "cell_type": "code",
   "execution_count": null,
   "metadata": {
    "collapsed": true
   },
   "outputs": [],
   "source": [
    "array1 = np.arange(10)\n",
    "array2 = np.arange(10).T # this is the transposed version of array1\n",
    "\n",
    "# .dot() does matrix multiplication (dot product: https://en.wikipedia.org/wiki/Dot_product)\n",
    "# This linear algebra operation is used very often in data science (regression/fourier transform etc)\n",
    "dot_product = array1.dot(array2)\n",
    "print(dot_product)"
   ]
  },
  {
   "cell_type": "markdown",
   "metadata": {},
   "source": [
    "<div class='alert alert-warning'>\n",
    "**ToDo**: From the variable below (test_array), extract the diagonal, and sum them together. Print the output.\n",
    "</div>"
   ]
  },
  {
   "cell_type": "code",
   "execution_count": null,
   "metadata": {
    "collapsed": true
   },
   "outputs": [],
   "source": [
    "test_array = np.arange(9).reshape((3, 3))\n",
    "# Extract the diagonal and sum them together:\n"
   ]
  },
  {
   "cell_type": "markdown",
   "metadata": {},
   "source": [
    "### Numpy: methods vs. attributes?\n",
    "Alright, by now, if you see a variable followed by a word ending with enclosed brackets, e.g. `my_array.mean()`, you'll know that it's a method! But sometimes you might see something similar, but **without** the brackets, such as `my_array.size`. This `.size` is called an **attribute** of the variable `my_array`. Like a method, it's an integral part of an object (such as a numpy ndarray). The attribute may be of any data-type, like a string, integer, tuple, an array itself. Let's look at an example:"
   ]
  },
  {
   "cell_type": "code",
   "execution_count": null,
   "metadata": {
    "collapsed": true
   },
   "outputs": [],
   "source": [
    "my_array = np.array([[1, 2, 3],\n",
    "                     [4, 5, 6],\n",
    "                     [7, 8, 9]])\n",
    "\n",
    "print(my_array)\n",
    "print('\\nThe size (number of element) in the array is:')\n",
    "print(my_array.size)\n",
    "print('\\nThe .size attribute is of data-type: {0}'.format(type(my_array.size)))"
   ]
  },
  {
   "cell_type": "markdown",
   "metadata": {},
   "source": [
    "Alright, so by now you might be wondering what the difference between a method and an attribute is. Superficially, you can recognize a method by the form `object.method()` (note the brackets!), like `my_array.round()`; an attribute is virtually the same **but without brackets**, in the form of `object.attribute`, like `my_array.size`. \n",
    "\n",
    "Conceptually, you may think of methods as things that **do** something with the array, while attributes **say** something about the array.\n",
    "\n",
    "For example, `my_array.size` **does nothing** with the array - it only **says** something about the array (it gives information about its size), while `my_array.mean()` really **does** something (i.e. calculates the mean of the array). \n",
    "\n",
    "Again, you might not use attributes a lot during this course, but you'll definitely see them around in the code of the tutorials. Below, some of the common ndarray attributes are listed:"
   ]
  },
  {
   "cell_type": "code",
   "execution_count": null,
   "metadata": {
    "collapsed": true
   },
   "outputs": [],
   "source": [
    "my_array = np.array([[1, 2, 3],\n",
    "                     [4, 5, 6],\n",
    "                     [7, 8, 9]])\n",
    "\n",
    "print('Size (number of elements) of array:')\n",
    "print(my_array.size) # returns an integer\n",
    "\n",
    "print('\\nShape of array:')\n",
    "print(my_array.shape) # this is a tuple!\n",
    "\n",
    "print('\\nNumber of dimensions:')\n",
    "print(my_array.ndim) # this is an integer"
   ]
  },
  {
   "cell_type": "markdown",
   "metadata": {},
   "source": [
    "### Numpy: array math\n",
    "We have already gone through arithmetics with standard Python numbers. Doing it with numpy arrays isn't much different.\n",
    "Basic mathematical functions operate elementwise on arrays, which means that the operation (e.g. addition) is applied onto each element in the array."
   ]
  },
  {
   "cell_type": "code",
   "execution_count": null,
   "metadata": {
    "collapsed": true
   },
   "outputs": [],
   "source": [
    "x = np.zeros(10)\n",
    "print(x)\n",
    "x += 1 # remember: this the same as x = x + 1\n",
    "print('\\n')\n",
    "print(x)"
   ]
  },
  {
   "cell_type": "markdown",
   "metadata": {},
   "source": [
    "Often, there exist function-equivalents of the mathematical operators. For example, `x + y` is the same as `np.add(x, y)`. However, it is recommended to use the operators wherever possible to improve readability of your code. See below for an example:"
   ]
  },
  {
   "cell_type": "code",
   "execution_count": null,
   "metadata": {
    "collapsed": true
   },
   "outputs": [],
   "source": [
    "x = np.array([[1,2],[3,4]], dtype=np.float64)\n",
    "y = np.array([[5,6],[7,8]], dtype=np.float64)\n",
    "\n",
    "# Elementwise sum: element 1 from x is added to element 1 from y, element 2 from x is added to element 2 from y, etc.\n",
    "print(x + y)\n",
    "print('\\n')\n",
    "print(np.add(x, y))"
   ]
  },
  {
   "cell_type": "code",
   "execution_count": null,
   "metadata": {
    "collapsed": true
   },
   "outputs": [],
   "source": [
    "# Elementwise difference; both produce the array\n",
    "print(x - y)\n",
    "print(np.subtract(x, y))"
   ]
  },
  {
   "cell_type": "code",
   "execution_count": null,
   "metadata": {
    "collapsed": true
   },
   "outputs": [],
   "source": [
    "# Elementwise product; both produce the array\n",
    "print(x * y)\n",
    "print(np.multiply(x, y))"
   ]
  },
  {
   "cell_type": "code",
   "execution_count": null,
   "metadata": {
    "collapsed": true
   },
   "outputs": [],
   "source": [
    "# Elementwise division; both produce the array\n",
    "# [[ 0.2         0.33333333]\n",
    "#  [ 0.42857143  0.5       ]]\n",
    "print(x / y)\n",
    "print(np.divide(x, y))"
   ]
  },
  {
   "cell_type": "code",
   "execution_count": null,
   "metadata": {
    "collapsed": true
   },
   "outputs": [],
   "source": [
    "# Elementwise square root; produces the array\n",
    "\n",
    "print(np.sqrt(x))"
   ]
  },
  {
   "cell_type": "markdown",
   "metadata": {},
   "source": [
    "<div class='alert alert-info'>\n",
    "**ToThink**: Suppose you have an array with integers, e.g. `x = np.array([1, 2, 3], dtype=np.int64)`. You calculate `x / 2`, and the result is `[0, 1, 1]` - unlike what you expected! What is going on here? If you forgot, refer back to the Basic Python section.\n",
    "</div>"
   ]
  },
  {
   "cell_type": "markdown",
   "metadata": {},
   "source": [
    "<div class='alert alert-warning'>\n",
    "**ToDo**: Do an elementwise product between the two variables defined below (matrix_A and matrix_B) and subsequently add 5 to each element.\n",
    "</div>"
   ]
  },
  {
   "cell_type": "code",
   "execution_count": null,
   "metadata": {
    "collapsed": true
   },
   "outputs": [],
   "source": [
    "matrix_A = np.arange(10).reshape((5, 2))\n",
    "matrix_B = np.arange(10, 20).reshape((5, 2))"
   ]
  },
  {
   "cell_type": "markdown",
   "metadata": {},
   "source": [
    "Note that unlike MATLAB, `*` is elementwise multiplication, not matrix multiplication. We instead use the dot function (or method) to compute inner products of vectors, to multiply a vector by a matrix, and to multiply matrices."
   ]
  },
  {
   "cell_type": "code",
   "execution_count": null,
   "metadata": {
    "collapsed": true
   },
   "outputs": [],
   "source": [
    "x = np.array([[1,2],[3,4]])\n",
    "y = np.array([[5,6],[7,8]])\n",
    "\n",
    "v = np.array([9,10])\n",
    "w = np.array([11, 12])\n",
    "\n",
    "# Inner product of vectors; both produce 219\n",
    "print(v.dot(w))\n",
    "print(np.dot(v, w))"
   ]
  },
  {
   "cell_type": "markdown",
   "metadata": {},
   "source": [
    "Probably the most used functions in numpy are the sum() and mean() functions (or methods!). A nice feature is that they can operate on the entire array (this is the default) or they can be applied per dimension. In numpy, dimensions are referred to as **axes**. Applying functions along axes is very common in scientific computing! An example:"
   ]
  },
  {
   "cell_type": "code",
   "execution_count": null,
   "metadata": {
    "collapsed": true
   },
   "outputs": [],
   "source": [
    "x = np.array([[1, 2],[3, 4], [5, 6]])\n",
    "\n",
    "print('Original array:')\n",
    "print(x)\n",
    "\n",
    "print('\\nSum over ALL elements of x:')\n",
    "print(np.sum(x))\n",
    "\n",
    "print('\\nSum over the columns of x:')\n",
    "print(np.sum(x, axis=0))\n",
    "\n",
    "print('\\nSum over the rows of x:')\n",
    "print(x.sum(axis=1))# this is the method form! Is exactly the same as np.sum(x, axis=1) "
   ]
  },
  {
   "cell_type": "markdown",
   "metadata": {},
   "source": [
    "<div class='alert alert-warning'>\n",
    "**ToDo**: Calculate the mean of each columns of the matrix y below and print the output:\n",
    "</div>\n"
   ]
  },
  {
   "cell_type": "code",
   "execution_count": null,
   "metadata": {
    "collapsed": true
   },
   "outputs": [],
   "source": [
    "y = np.arange(20).reshape((5, 4))\n",
    "\n",
    "# Calculate the mean of each column\n"
   ]
  },
  {
   "cell_type": "markdown",
   "metadata": {},
   "source": [
    "### Broadcasting"
   ]
  },
  {
   "cell_type": "markdown",
   "metadata": {},
   "source": [
    "Broadcasting is a powerful mechanism that allows numpy to work with arrays of different shapes when performing arithmetic operations. Frequently we have a smaller array and a larger array, and we want to use the smaller array multiple times to perform some operation on the larger array.\n",
    "\n",
    "For example, suppose that we want to add a constant vector to each row of a matrix. We could do it like this:"
   ]
  },
  {
   "cell_type": "code",
   "execution_count": null,
   "metadata": {
    "collapsed": true
   },
   "outputs": [],
   "source": [
    "# We will add the vector v to each row of the matrix x,\n",
    "# storing the result in the matrix y\n",
    "x = np.array([[1,2,3], [4,5,6], [7,8,9], [10, 11, 12]])\n",
    "\n",
    "print('x array is of shape: {0}'.format(list(x.shape)))\n",
    "print(x)\n",
    "\n",
    "v = np.array([1, 0, 1])\n",
    "print('\\nv vector is of shape: {0}'.format(list(v.shape)))\n",
    "print(v)\n",
    "\n",
    "y = np.zeros(x.shape)   # Create an empty (zeros) matrix with the same shape as x\n",
    "print('\\nShape of (pre-allocated) y-matrix: {0}'.format(list(y.shape)))\n",
    "\n",
    "# Add the vector v to each row of the matrix x with an explicit loop\n",
    "for i in range(x.shape[0]): # see how the shape attributes comes in handy in creating loops?\n",
    "    y[i, :] = x[i, :] + v\n",
    "\n",
    "print('\\n The result of adding v to each row of x, as stored in y:')\n",
    "print(y)"
   ]
  },
  {
   "cell_type": "markdown",
   "metadata": {},
   "source": [
    "This works; however when the matrix `x` is very large, computing an explicit loop in Python could be slow. Note that adding the vector v to each row of the matrix `x` is equivalent to forming a matrix `vv` by stacking multiple copies of `v` vertically, like this `[[1 0 1], [1 0 1], [1 0 1], [1 0 1]]`, and subsequently elementwise addition of `x + vv`:"
   ]
  },
  {
   "cell_type": "code",
   "execution_count": null,
   "metadata": {
    "collapsed": true
   },
   "outputs": [],
   "source": [
    "vv = np.tile(v, (4, 1)) # i.e. expand vector 'v' 4 times along the row dimension (similar to MATLAB's repmat function)\n",
    "y = x + vv  # Add x and vv elementwise\n",
    "print(y)"
   ]
  },
  {
   "cell_type": "markdown",
   "metadata": {},
   "source": [
    "Numpy **broadcasting** allows us to perform this computation without actually creating multiple copies of v. Consider this version, using broadcasting:"
   ]
  },
  {
   "cell_type": "code",
   "execution_count": null,
   "metadata": {
    "collapsed": true
   },
   "outputs": [],
   "source": [
    "# We will add the vector v to each row of the matrix x,\n",
    "# storing the result in the matrix y\n",
    "x = np.array([[1,2,3], [4,5,6], [7,8,9], [10, 11, 12]])\n",
    "v = np.array([1, 0, 1])\n",
    "y = x + v  # Add v to each row of x using broadcasting\n",
    "print(y)"
   ]
  },
  {
   "cell_type": "markdown",
   "metadata": {},
   "source": [
    "The line `y = x + v` works even though `x` has shape `(4, 3)` and `v` has shape `(3,)` due to broadcasting; this line works as if v actually had shape `(4, 3)`, where each row was a copy of `v`, and the sum was performed elementwise.\n",
    "\n",
    "This broadcasting function is really useful, as it prevents us from writing unnessary and by definition slower explicit for-loops. Additionally, it's way easier to read and write than explicit for-loops (which need pre-allocation). Functions that support broadcasting are known as universal functions. You can find the list of all universal functions in the [documentation](http://docs.scipy.org/doc/numpy/reference/ufuncs.html#available-ufuncs).\n",
    "\n",
    "Here are some applications of broadcasting using different functions:"
   ]
  },
  {
   "cell_type": "code",
   "execution_count": null,
   "metadata": {
    "collapsed": true
   },
   "outputs": [],
   "source": [
    "x = np.array([[1, 2],[3, 4], [5, 6]], dtype=np.float)\n",
    "x_sum = x.sum(axis=0)\n",
    "\n",
    "print(x / x_sum)"
   ]
  },
  {
   "cell_type": "markdown",
   "metadata": {},
   "source": [
    "<div class='alert alert-warning'>\n",
    "**ToDo**: Calculate the mean of each column in the variable 'my_array' below. Subsequenly, subtract these column-means from each row of the matrix.\n",
    "</div>"
   ]
  },
  {
   "cell_type": "code",
   "execution_count": null,
   "metadata": {
    "collapsed": true
   },
   "outputs": [],
   "source": [
    "my_array = np.arange(20).reshape((5, 4))\n",
    "print(my_array)\n",
    "\n",
    "# Calculate the mean of each column using the axis=0 argument! and subtract it from the array itself."
   ]
  },
  {
   "cell_type": "markdown",
   "metadata": {},
   "source": [
    "Now, you know the most important numpy concepts and functionality that is necessary to do neuroimaging analysis. Surely, there is a lot more to the numpy package that what we've covered here! But for now, let's continue with plotting using Matplotlib!"
   ]
  },
  {
   "cell_type": "markdown",
   "metadata": {},
   "source": [
    "## 2. Pandas"
   ]
  },
  {
   "cell_type": "markdown",
   "metadata": {},
   "source": [
    "Pandas is a tool for handling datastructures in python, where the DataFrame module is reminiscent of something you'd see in R. As you will see later, a lot of Python packages support or even prefer pandas (e.g. Seaborn). Pandas have a plethora of functionalities, and here we will quickly go through some of the most important ones.\n"
   ]
  },
  {
   "cell_type": "code",
   "execution_count": 3,
   "metadata": {
    "collapsed": true
   },
   "outputs": [],
   "source": [
    "import pandas as pd # This is how we usually import pandas\n",
    "import numpy as np"
   ]
  },
  {
   "cell_type": "code",
   "execution_count": 4,
   "metadata": {
    "collapsed": false
   },
   "outputs": [
    {
     "name": "stdout",
     "output_type": "stream",
     "text": [
      "     S    R     A\n",
      "0  1.0  1.6  21.0\n",
      "1  2.0  2.1  32.0\n",
      "2  3.0  1.7  25.0\n",
      "3  4.0  2.4  37.0\n",
      "4  5.0  1.2  23.0\n"
     ]
    }
   ],
   "source": [
    "# Lets define a few values\n",
    "subject = [1, 2, 3, 4, 5, 6, 7, 8]\n",
    "reaction_time = [1.6, 2.1, 1.7, 2.4, 1.2, 1.3, 2.5, 3.3]\n",
    "age = [21, 32, 25, 37, 23, 23, 51, 61]\n",
    "\n",
    "# put our lists into a numpy array, where each variable is a column (meaning we need to transpose)\n",
    "data = np.array([subject, reaction_time, age]).T\n",
    "\n",
    "# Create dataframe and print out first five rows\n",
    "df = pd.DataFrame(data = data, columns=['S', 'R', 'A'])\n",
    "print(df.head()) # head() gives you the first 5 rows, tail() gives you the last 5 rows"
   ]
  },
  {
   "cell_type": "markdown",
   "metadata": {},
   "source": [
    "<i>The data parameter to pd.DataFrame can also be a dictionary. See the [Pandas](https://pandas.pydata.org/pandas-docs/stable/) docs for more information.</i><br/>\n",
    "We can easily change the name of the columns so they make more sense:"
   ]
  },
  {
   "cell_type": "code",
   "execution_count": 5,
   "metadata": {
    "collapsed": false,
    "scrolled": true
   },
   "outputs": [
    {
     "name": "stdout",
     "output_type": "stream",
     "text": [
      "   Subject   RT   Age\n",
      "0      1.0  1.6  21.0\n",
      "1      2.0  2.1  32.0\n",
      "2      3.0  1.7  25.0\n",
      "3      4.0  2.4  37.0\n",
      "4      5.0  1.2  23.0\n",
      "5      6.0  1.3  23.0\n",
      "6      7.0  2.5  51.0\n",
      "7      8.0  3.3  61.0\n"
     ]
    }
   ],
   "source": [
    "df.columns = ['Subject', 'RT', 'Age']\n",
    "print(df)"
   ]
  },
  {
   "cell_type": "markdown",
   "metadata": {},
   "source": [
    "And select subjects who have a RT above the mean"
   ]
  },
  {
   "cell_type": "code",
   "execution_count": 6,
   "metadata": {
    "collapsed": false
   },
   "outputs": [
    {
     "name": "stdout",
     "output_type": "stream",
     "text": [
      "   Subject   RT   Age\n",
      "1      2.0  2.1  32.0\n",
      "3      4.0  2.4  37.0\n",
      "6      7.0  2.5  51.0\n",
      "7      8.0  3.3  61.0\n"
     ]
    }
   ],
   "source": [
    "print(df[df['RT'] > df['RT'].mean()])"
   ]
  },
  {
   "cell_type": "markdown",
   "metadata": {},
   "source": [
    "### Pandas: Extracting data from columns"
   ]
  },
  {
   "cell_type": "markdown",
   "metadata": {},
   "source": [
    "Its easy to extract specific columns from the dataframe based on their name"
   ]
  },
  {
   "cell_type": "code",
   "execution_count": 7,
   "metadata": {
    "collapsed": false
   },
   "outputs": [
    {
     "name": "stdout",
     "output_type": "stream",
     "text": [
      "2.0125\n",
      "2.0125\n"
     ]
    }
   ],
   "source": [
    "RT = df['RT'] # get the reaction times\n",
    "print(RT.mean()) # print mean reaction time\n",
    "\n",
    "# which is equivalent of this\n",
    "print(df['RT'].mean())\n"
   ]
  },
  {
   "cell_type": "markdown",
   "metadata": {},
   "source": [
    "In pandas, each column is a <b>series</b>. Series are a panda specific format, which we can easily turn to a NumPy vector if needed"
   ]
  },
  {
   "cell_type": "code",
   "execution_count": 8,
   "metadata": {
    "collapsed": false
   },
   "outputs": [
    {
     "name": "stdout",
     "output_type": "stream",
     "text": [
      "<class 'pandas.core.series.Series'>\n",
      "<class 'numpy.ndarray'>\n",
      "<class 'numpy.ndarray'>\n"
     ]
    }
   ],
   "source": [
    "print(type(RT)) # type is an excellent function to use for checking what different objects are\n",
    "\n",
    "# Lets make it a NumPy array in two ways\n",
    "RT2 = np.array(RT)\n",
    "print(type(RT2))\n",
    "# which is the same as\n",
    "print(type(RT.values))"
   ]
  },
  {
   "cell_type": "markdown",
   "metadata": {},
   "source": [
    "We can extract several columns in a similar way as just one column"
   ]
  },
  {
   "cell_type": "code",
   "execution_count": 9,
   "metadata": {
    "collapsed": false
   },
   "outputs": [
    {
     "name": "stdout",
     "output_type": "stream",
     "text": [
      "   Subject   Age\n",
      "0      1.0  21.0\n",
      "1      2.0  32.0\n",
      "2      3.0  25.0\n",
      "3      4.0  37.0\n",
      "4      5.0  23.0\n",
      "5      6.0  23.0\n",
      "6      7.0  51.0\n",
      "7      8.0  61.0\n"
     ]
    }
   ],
   "source": [
    "partial_data = df[['Subject', 'Age']]\n",
    "print(partial_data)"
   ]
  },
  {
   "cell_type": "markdown",
   "metadata": {},
   "source": [
    "And sort values by column names"
   ]
  },
  {
   "cell_type": "code",
   "execution_count": 10,
   "metadata": {
    "collapsed": false
   },
   "outputs": [
    {
     "name": "stdout",
     "output_type": "stream",
     "text": [
      "   Subject   RT   Age\n",
      "4      5.0  1.2  23.0\n",
      "5      6.0  1.3  23.0\n",
      "0      1.0  1.6  21.0\n",
      "2      3.0  1.7  25.0\n",
      "1      2.0  2.1  32.0\n",
      "3      4.0  2.4  37.0\n",
      "6      7.0  2.5  51.0\n",
      "7      8.0  3.3  61.0\n"
     ]
    }
   ],
   "source": [
    "df_sort = df.sort_values(['RT'], ascending=True)\n",
    "print(df_sort)"
   ]
  },
  {
   "cell_type": "markdown",
   "metadata": {},
   "source": [
    "Here we can easily add and remove data"
   ]
  },
  {
   "cell_type": "code",
   "execution_count": 11,
   "metadata": {
    "collapsed": false
   },
   "outputs": [
    {
     "name": "stdout",
     "output_type": "stream",
     "text": [
      "   Subject   RT   Age Gender\n",
      "0      1.0  1.6  21.0      f\n",
      "1      2.0  2.1  32.0      f\n",
      "2      3.0  1.7  25.0      m\n",
      "3      4.0  2.4  37.0      f\n",
      "4      5.0  1.2  23.0      m\n",
      "5      6.0  1.3  23.0      m\n",
      "6      7.0  2.5  51.0      f\n",
      "7      8.0  3.3  61.0      m\n",
      "   Subject   RT   Age\n",
      "0      1.0  1.6  21.0\n",
      "1      2.0  2.1  32.0\n",
      "2      3.0  1.7  25.0\n",
      "3      4.0  2.4  37.0\n",
      "4      5.0  1.2  23.0\n",
      "5      6.0  1.3  23.0\n",
      "6      7.0  2.5  51.0\n",
      "7      8.0  3.3  61.0\n"
     ]
    }
   ],
   "source": [
    "# Add gender as a variable\n",
    "# The list most be the same length must match the lenght of the dataframe\n",
    "df['Gender'] = ['f', 'f', 'm', 'f', 'm', 'm', 'f', 'm']\n",
    "print(df)\n",
    "# lets remove it\n",
    "df = df.drop('Gender' ,1)\n",
    "print(df)"
   ]
  },
  {
   "cell_type": "markdown",
   "metadata": {},
   "source": [
    "## Pandas: Data selection by rows\n",
    "This takes us to another way of selecting data. In pandas you can also select by rows, you can do this using two very similar methods:\n",
    "<b>loc</b> and <b>iloc</b>\n",
    "\n",
    "Knowing the difference between the two can save you many hours of debugging. If you look at the left hand side of the printed df_sort above. There you have the row names, and as you can see, because we sorted them they are all jumbled around compared to the unsorted df structure. This means that the index number and row name is not the same in df_sort, but they are in df."
   ]
  },
  {
   "cell_type": "code",
   "execution_count": 12,
   "metadata": {
    "collapsed": false,
    "scrolled": false
   },
   "outputs": [
    {
     "name": "stdout",
     "output_type": "stream",
     "text": [
      "This is the row named 0 in df:\n",
      "Subject     1.0\n",
      "RT          1.6\n",
      "Age        21.0\n",
      "Name: 0, dtype: float64\n",
      "This is the row indexed 0 of df:\n",
      "Subject     1.0\n",
      "RT          1.6\n",
      "Age        21.0\n",
      "Name: 0, dtype: float64\n",
      "\n",
      "*********************************\n",
      "\n",
      "This is the row named 0 in df_sort:\n",
      "Subject     1.0\n",
      "RT          1.6\n",
      "Age        21.0\n",
      "Name: 0, dtype: float64\n",
      "This is the row indexed 0 of df_sort:\n",
      "Subject     5.0\n",
      "RT          1.2\n",
      "Age        23.0\n",
      "Name: 4, dtype: float64\n"
     ]
    }
   ],
   "source": [
    "print('This is the row named 0 in df:')\n",
    "print(df.loc[0]) # NOTICE THE HARD BRACKETS!\n",
    "print('This is the row indexed 0 of df:')\n",
    "print(df.iloc[0])\n",
    "print('\\n*********************************\\n')\n",
    "print('This is the row named 0 in df_sort:')\n",
    "print(df_sort.loc[0])\n",
    "print('This is the row indexed 0 of df_sort:')\n",
    "print(df_sort.iloc[0])"
   ]
  },
  {
   "cell_type": "markdown",
   "metadata": {},
   "source": [
    "<div class='alert alert-info'>\n",
    "**ToThink**: Make sure you understand what is happening here. Compare the output from above cell with output from df and df_sort in the cells above\n",
    "</div>"
   ]
  },
  {
   "cell_type": "markdown",
   "metadata": {},
   "source": [
    "<div class='alert alert-warning'>\n",
    "**ToDo**: We can change a value in any given cell using df.set_value(x, y, value). For example:\n",
    "\n",
    "df.set_value(3, 'RT', 2.6)\n",
    "\n",
    "would replace the reaction time for participant 4. Change the age of Subject 1 to 26!\n",
    "</div>"
   ]
  },
  {
   "cell_type": "code",
   "execution_count": 102,
   "metadata": {
    "collapsed": true
   },
   "outputs": [],
   "source": [
    "# Change age here"
   ]
  },
  {
   "cell_type": "markdown",
   "metadata": {},
   "source": [
    "## Pandas: Saving and loading data\n",
    "Pandas lets you save and load data in different formats.\n",
    "\n",
    "The only parameters we will use is index and header. Setting the index parameters to False will prevent it from being exported."
   ]
  },
  {
   "cell_type": "code",
   "execution_count": 13,
   "metadata": {
    "collapsed": false
   },
   "outputs": [
    {
     "name": "stdout",
     "output_type": "stream",
     "text": [
      "   Subject   RT\n",
      "0      1.0  1.6\n",
      "1      2.0  2.1\n",
      "2      3.0  1.7\n",
      "3      4.0  2.4\n",
      "4      5.0  1.2\n",
      "5      6.0  1.3\n",
      "6      7.0  2.5\n",
      "7      8.0  3.3\n",
      "This is our recovered data\n",
      "   Subject   RT   Age\n",
      "0      1.0  1.6  21.0\n",
      "1      2.0  2.1  32.0\n",
      "2      3.0  1.7  25.0\n",
      "3      4.0  2.4  37.0\n",
      "4      5.0  1.2  23.0\n",
      "5      6.0  1.3  23.0\n",
      "6      7.0  2.5  51.0\n",
      "7      8.0  3.3  61.0\n"
     ]
    }
   ],
   "source": [
    "file_name = 'our_data.csv'\n",
    "df.to_csv(file_name, index=False) # lets save to a csv file, but row names set to False\n",
    "\n",
    "# If the file is created successfully it means that if we accidentally remove a \n",
    "# column from our data, we can easily recover our data\n",
    "df = df.drop('Age', 1) # 1 is to define that the axis we want to remove is columnns\n",
    "print(df)\n",
    "# read in saved data\n",
    "df = pd.read_csv(file_name)\n",
    "print('This is our recovered data')\n",
    "print(df)"
   ]
  },
  {
   "cell_type": "markdown",
   "metadata": {},
   "source": [
    "<div class='alert alert-warning'>\n",
    "**ToDo**: Make your own DataFrame from the beginnning, where you define your subjects and some type of \"measurement\" with random values between 0 and 1 (use numpy for randomization). Save your dataframe as \"my_dataframe.csv\"\n",
    "</div>"
   ]
  },
  {
   "cell_type": "code",
   "execution_count": 101,
   "metadata": {
    "collapsed": true
   },
   "outputs": [],
   "source": [
    "# Make your own DataFrame here"
   ]
  },
  {
   "cell_type": "markdown",
   "metadata": {},
   "source": [
    "## Pandas: Managing formats\n",
    "\n",
    "We can change the DataFrame by shifting between wide and long format, transpose (shifting rows and columns), group by columns, merging with another dataset and many other ways. In data science its rarely the case that you get data that is neatly formatted, so learning how to handle your formats is essential.<br/><br/>\n",
    "\n",
    "Lets load a dataset we don't know much about, except that it should contain 4 subjects pupil size per trial:"
   ]
  },
  {
   "cell_type": "code",
   "execution_count": 18,
   "metadata": {
    "collapsed": false
   },
   "outputs": [
    {
     "name": "stdout",
     "output_type": "stream",
     "text": [
      "Dimensions of our data frame: (200, 5)\n"
     ]
    }
   ],
   "source": [
    "df = pd.read_csv('pupil_data.csv')\n",
    "print('Dimensions of our data frame:', df.shape)"
   ]
  },
  {
   "cell_type": "code",
   "execution_count": 19,
   "metadata": {
    "collapsed": false
   },
   "outputs": [
    {
     "name": "stdout",
     "output_type": "stream",
     "text": [
      "   Trial         1         2         3         4\n",
      "0    1.0  1.397783  1.002726  1.782394  1.169649\n",
      "1    2.0  1.089223  1.498374  1.511774  1.816924\n",
      "2    3.0  1.450949  1.985838  1.671868  1.784004\n",
      "3    4.0  1.513763  1.286041  1.949068  1.186064\n",
      "4    5.0  1.795847  1.343431  1.672975  1.106802\n",
      "Trial    float64\n",
      "1        float64\n",
      "2        float64\n",
      "3        float64\n",
      "4        float64\n",
      "dtype: object\n"
     ]
    }
   ],
   "source": [
    "# So we have 200 rows and 5 columns. Lets have a look at the five first rows:\n",
    "print(df.head())\n",
    "print(df.dtypes)"
   ]
  },
  {
   "cell_type": "markdown",
   "metadata": {},
   "source": [
    "Here it looks like we have each subject on a column, together with the trial indentifier. However, we would like to stack our data into long format, where we have one column indicating the subject (1-4), and one column for the pupil size. We can achieve this quickly using the melt-method:"
   ]
  },
  {
   "cell_type": "code",
   "execution_count": 20,
   "metadata": {
    "collapsed": false
   },
   "outputs": [
    {
     "name": "stdout",
     "output_type": "stream",
     "text": [
      "Dimensions of our data frame: (800, 3)\n",
      "   Trial Subject  Pupil Size\n",
      "0    1.0       1    1.397783\n",
      "1    2.0       1    1.089223\n",
      "2    3.0       1    1.450949\n",
      "3    4.0       1    1.513763\n",
      "4    5.0       1    1.795847\n",
      "     Trial Subject  Pupil Size\n",
      "600    1.0       4    1.169649\n",
      "601    2.0       4    1.816924\n",
      "602    3.0       4    1.784004\n",
      "603    4.0       4    1.186064\n",
      "604    5.0       4    1.106802\n"
     ]
    }
   ],
   "source": [
    "df = pd.melt(df, id_vars=['Trial'], value_vars=['1', '2', '3', '4'], var_name='Subject', value_name='Pupil Size')\n",
    "print('Dimensions of our data frame:', df.shape)\n",
    "print(df.head())\n",
    "# And lets print a few of Subject 4s trials as well\n",
    "print(df[df['Subject'] == '4'].head())"
   ]
  },
  {
   "cell_type": "markdown",
   "metadata": {},
   "source": [
    "<div class='alert alert-warning'>\n",
    "**ToDo**: To understand what happened here. Create a new DataFrame with 3 columns: A, B and C. Column A should be defined as [1, 2, 3] - Column B = [0.3, 0.7, 0.8], - Column C = [22, 25, 21].\n",
    "<br/><br/>\n",
    "Then use the melt-method to achieve this:<br/>\n",
    "\n",
    "<table>\n",
    "  <tr>\n",
    "    <th></th>\n",
    "    <th>A</th>\n",
    "    <th>Variable</th>\n",
    "    <th>Value</th>\n",
    "  </tr>\n",
    "  <tr>\n",
    "    <td>0</td>\n",
    "    <td>1.0</td>\n",
    "    <td>B</td>\n",
    "    <td>0.3</td>\n",
    "  </tr>\n",
    "  <tr>\n",
    "    <td>1</td>\n",
    "    <td>2.0</td>\n",
    "    <td>B</td>\n",
    "    <td>0.7</td>\n",
    "  </tr>\n",
    "  <tr>\n",
    "    <td>2</td>\n",
    "    <td>3.0</td>\n",
    "    <td>B</td>\n",
    "    <td>0.8</td>\n",
    "  </tr>\n",
    "  \n",
    "  \n",
    "  <tr>\n",
    "    <td>3</td>\n",
    "    <td>1.0</td>\n",
    "    <td>C</td>\n",
    "    <td>22.0</td>\n",
    "  </tr>\n",
    "  <tr>\n",
    "    <td>4</td>\n",
    "    <td>2.0</td>\n",
    "    <td>C</td>\n",
    "    <td>25.0</td>\n",
    "  </tr>\n",
    "  <tr>\n",
    "    <td>5</td>\n",
    "    <td>3.0</td>\n",
    "    <td>C</td>\n",
    "    <td>21.0</td>\n",
    "  </tr>\n",
    "</table>\n",
    "\n",
    "<br/><br/><br/><br/>\n",
    "\n",
    "<b>Hint<b/>: No need to name the variable and the values (Don't fill in the parameters value_name and var_name)\n",
    "\n",
    "</div>"
   ]
  },
  {
   "cell_type": "markdown",
   "metadata": {},
   "source": [
    "Putting a two datasets together is an easy task:"
   ]
  },
  {
   "cell_type": "code",
   "execution_count": 208,
   "metadata": {
    "collapsed": false
   },
   "outputs": [
    {
     "name": "stdout",
     "output_type": "stream",
     "text": [
      "   Trial  Subject  Pupil Size\n",
      "0    1.0      5.0    1.715435\n",
      "1    2.0      5.0    1.286689\n",
      "2    3.0      5.0    1.496787\n",
      "3    4.0      5.0    1.825850\n",
      "4    5.0      5.0    2.727050\n"
     ]
    }
   ],
   "source": [
    "df2 = pd.read_csv('more_pupil_data.csv') # read in another data set\n",
    "print(df2.head())"
   ]
  },
  {
   "cell_type": "markdown",
   "metadata": {},
   "source": [
    "<b>Perfect</b>! It looks like our data is already formatted. To concatenate two datasets with the same columns we can use concat or append:"
   ]
  },
  {
   "cell_type": "code",
   "execution_count": 229,
   "metadata": {
    "collapsed": false
   },
   "outputs": [
    {
     "name": "stdout",
     "output_type": "stream",
     "text": [
      "Dimensions of our first data frame: (800, 3)\n",
      "Dimensions of our second data frame: (800, 3)\n",
      "Dimensions of our third data frame: (1600, 3)\n",
      "Dimensions of our fourth data frame: (1600, 3)\n"
     ]
    }
   ],
   "source": [
    "df3 = pd.concat([df, df2])\n",
    "df4 = df.append(df2)\n",
    "print('Dimensions of our first data frame:', df.shape)\n",
    "print('Dimensions of our second data frame:', df2.shape)\n",
    "print('Dimensions of our third data frame:', df3.shape)\n",
    "print('Dimensions of our fourth data frame:', df4.shape)\n",
    "del df2, df3, df4 # Lets remove the extra dataframes from our memory"
   ]
  },
  {
   "cell_type": "markdown",
   "metadata": {},
   "source": [
    "## Pandas: Grouping data\n",
    "Another nifty function is the groupby-method. We can use this to get quickly get the average pupil size for each Subject:"
   ]
  },
  {
   "cell_type": "code",
   "execution_count": 238,
   "metadata": {
    "collapsed": false,
    "scrolled": true
   },
   "outputs": [
    {
     "name": "stdout",
     "output_type": "stream",
     "text": [
      "         Trial  Pupil Size\n",
      "Subject                   \n",
      "1        100.5    1.476810\n",
      "2        100.5    1.503165\n",
      "3        100.5    1.529600\n",
      "4        100.5    1.523925\n"
     ]
    }
   ],
   "source": [
    "df_mean = df.groupby(['Subject']).mean()\n",
    "print(df_mean)"
   ]
  },
  {
   "cell_type": "markdown",
   "metadata": {},
   "source": [
    "However, now the Subject-column ended up as our indices. We can easily solve this"
   ]
  },
  {
   "cell_type": "code",
   "execution_count": 242,
   "metadata": {
    "collapsed": false
   },
   "outputs": [
    {
     "name": "stdout",
     "output_type": "stream",
     "text": [
      "  Subject  Trial  Pupil Size\n",
      "0       1  100.5    1.476810\n",
      "1       2  100.5    1.503165\n",
      "2       3  100.5    1.529600\n",
      "3       4  100.5    1.523925\n"
     ]
    }
   ],
   "source": [
    "df_mean = df.groupby(['Subject'], as_index=False).mean()\n",
    "print(df_mean)"
   ]
  },
  {
   "cell_type": "markdown",
   "metadata": {},
   "source": [
    "<div class='alert alert-info'>\n",
    "**ToThink**: Make sure you understand what type of implication this has for the loc[]-method\n",
    "</div>"
   ]
  },
  {
   "cell_type": "markdown",
   "metadata": {},
   "source": [
    "As you can see, we averaged over all the values here. If we add a \"Trial Condition\" variable, we can see what the average over \"Subject\" and \"Trial Condition\" could be:"
   ]
  },
  {
   "cell_type": "code",
   "execution_count": 252,
   "metadata": {
    "collapsed": false
   },
   "outputs": [
    {
     "name": "stdout",
     "output_type": "stream",
     "text": [
      "  Subject  Trial Condition  Trial  Pupil Size\n",
      "0       1                1  100.0    1.483401\n",
      "1       1                2  101.0    1.470219\n",
      "2       2                1  100.0    1.525740\n",
      "3       2                2  101.0    1.480590\n",
      "4       3                1  100.0    1.531551\n",
      "5       3                2  101.0    1.527648\n",
      "6       4                1  100.0    1.530357\n",
      "7       4                2  101.0    1.517492\n"
     ]
    }
   ],
   "source": [
    "TC = [1, 2]*int(len(df)/2) # a list of 400 1s and 2s each\n",
    "df['Trial Condition'] = TC\n",
    "\n",
    "df_mean = df.groupby(['Subject', 'Trial Condition'], as_index=False).mean()\n",
    "print(df_mean)"
   ]
  },
  {
   "cell_type": "markdown",
   "metadata": {},
   "source": [
    "## Pandas (and overall): CULPRIT!!\n",
    "In python we have to careful copy or use methods to change a variable. The set_value-method will actually directly change our DataFrame, while df.sort_values() will return a new variable without changing the DataFrame. Meaning in order to save the sorted data we need to assign it again to a variable:<br/><br/>\n",
    "    <font face='fixed width' size=4>df = df.sort_values()</font><br/><br/>\n",
    "This is not necessary for the set_value-method that directly changes the DataFrame:<br/><br/>\n",
    "    <font face='fixed width' size=4>df.set_value(3, 'RT', 2.6)</font><br/><br/>\n",
    "\n",
    "This relates to view and copy in python. If we assign our DataFrame to another variable:"
   ]
  },
  {
   "cell_type": "code",
   "execution_count": 264,
   "metadata": {
    "collapsed": false
   },
   "outputs": [
    {
     "name": "stdout",
     "output_type": "stream",
     "text": [
      "   Subject   RT   Age\n",
      "0      1.0  1.6  21.0\n",
      "1      2.0  2.1  32.0\n",
      "2      3.0  1.7  25.0\n",
      "3      4.0  2.4  37.0\n",
      "4      5.0  1.2  23.0\n"
     ]
    }
   ],
   "source": [
    "# Lets define a few values\n",
    "subject = [1, 2, 3, 4, 5, 6, 7, 8]\n",
    "reaction_time = [1.6, 2.1, 1.7, 2.4, 1.2, 1.3, 2.5, 3.3]\n",
    "age = [21, 32, 25, 37, 23, 23, 51, 61]\n",
    "\n",
    "# put our lists into a numpy array, where each variable is a column (meaning we need to transpose)\n",
    "data = np.array([subject, reaction_time, age]).T\n",
    "\n",
    "# Create dataframe and print out first five rows\n",
    "df = pd.DataFrame(data = data, columns=['Subject', 'RT', 'Age'])\n",
    "print(df.head()) # head() gives you the first 5 rows, tail() gives you the last 5 rows"
   ]
  },
  {
   "cell_type": "code",
   "execution_count": 265,
   "metadata": {
    "collapsed": true
   },
   "outputs": [],
   "source": [
    "df_new = df"
   ]
  },
  {
   "cell_type": "markdown",
   "metadata": {},
   "source": [
    "We are actually copying the <b>link</b> between df and its object to df_new, while we might be thinking we are making a copy of the actual object. Internally what is happening is that we now made a new binding (df_new) to the same object (the DataFrame).\n",
    "\n",
    "\n",
    "This means that if we change anything about df_new, we also change df:"
   ]
  },
  {
   "cell_type": "code",
   "execution_count": 262,
   "metadata": {
    "collapsed": false,
    "scrolled": true
   },
   "outputs": [
    {
     "name": "stdout",
     "output_type": "stream",
     "text": [
      "   Subject        RT   Age\n",
      "0      1.0  1.600000  21.0\n",
      "1      2.0  2.100000  32.0\n",
      "2      3.0  1.700000  25.0\n",
      "3      4.0  2.400000  37.0\n",
      "4      5.0  1.200000  23.0\n",
      "5      6.0  1.300000  23.0\n",
      "6      7.0  2.500000  51.0\n",
      "7      8.0  0.929724  61.0\n",
      "   Subject        RT   Age\n",
      "0      1.0  1.600000  21.0\n",
      "1      2.0  2.100000  32.0\n",
      "2      3.0  1.700000  25.0\n",
      "3      4.0  2.400000  37.0\n",
      "4      5.0  1.200000  23.0\n",
      "5      6.0  1.300000  23.0\n",
      "6      7.0  2.500000  51.0\n",
      "7      8.0  0.270745  61.0\n"
     ]
    }
   ],
   "source": [
    "print(df)\n",
    "\n",
    "# lets change the reaction time for participant 8 in our df_new variable\n",
    "df_new.set_value(7, 'RT', np.random.random(1))\n",
    "\n",
    "print(df) # and print df again"
   ]
  },
  {
   "cell_type": "markdown",
   "metadata": {},
   "source": [
    "This can be helped by actually making a copy (in this case a shallow copy).\n",
    "\n",
    "The difference between shallow and deep copying is only relevant for compound objects (objects that contain other objects, like lists or class instances):\n",
    "\n",
    "- A shallow copy constructs a new compound object and then (to the extent possible) inserts references into it to the objects found in the original.\n",
    "- A deep copy constructs a new compound object and then, recursively, inserts copies into it of the objects found in the original.\n"
   ]
  },
  {
   "cell_type": "code",
   "execution_count": 263,
   "metadata": {
    "collapsed": false
   },
   "outputs": [
    {
     "name": "stdout",
     "output_type": "stream",
     "text": [
      "   Subject        RT   Age\n",
      "0      1.0  1.600000  21.0\n",
      "1      2.0  2.100000  32.0\n",
      "2      3.0  1.700000  25.0\n",
      "3      4.0  2.400000  37.0\n",
      "4      5.0  1.200000  23.0\n",
      "5      6.0  1.300000  23.0\n",
      "6      7.0  2.500000  51.0\n",
      "7      8.0  0.270745  61.0\n",
      "   Subject        RT   Age\n",
      "0      1.0  1.600000  21.0\n",
      "1      2.0  2.100000  32.0\n",
      "2      3.0  1.700000  25.0\n",
      "3      4.0  2.400000  37.0\n",
      "4      5.0  1.200000  23.0\n",
      "5      6.0  1.300000  23.0\n",
      "6      7.0  2.500000  51.0\n",
      "7      8.0  0.270745  61.0\n"
     ]
    }
   ],
   "source": [
    "df_new = df.copy()\n",
    "\n",
    "print(df)\n",
    "\n",
    "# lets change the reaction time for participant 8 in our df_new variable\n",
    "df_new.set_value(0, 'RT', 44.6)\n",
    "\n",
    "print(df) # and print df again"
   ]
  },
  {
   "cell_type": "markdown",
   "metadata": {},
   "source": [
    "<div class='alert alert-warning'>\n",
    "**ToDo**: Make your own example of this python phenomenon using a python list\n",
    "</div>"
   ]
  },
  {
   "cell_type": "code",
   "execution_count": 221,
   "metadata": {
    "collapsed": true
   },
   "outputs": [],
   "source": [
    "# Make your example of what happens when you don't use copy() on a list here"
   ]
  }
 ],
 "metadata": {
  "kernelspec": {
   "display_name": "Python 3",
   "language": "python",
   "name": "python3"
  },
  "language_info": {
   "codemirror_mode": {
    "name": "ipython",
    "version": 3
   },
   "file_extension": ".py",
   "mimetype": "text/x-python",
   "name": "python",
   "nbconvert_exporter": "python",
   "pygments_lexer": "ipython3",
   "version": "3.6.0"
  }
 },
 "nbformat": 4,
 "nbformat_minor": 1
}
