{
 "cells": [
  {
   "cell_type": "markdown",
   "metadata": {},
   "source": [
    "# Week 4 - Statistical testing, correlations and predictions\n",
    "This week we will continue using the [NeurOlympics](http://neurolympics.nl/) dataset on football players to demonstrate more interesting statistical tools. In this tutorial we will show how to do:\n",
    "\n",
    "- Permutation tests\n",
    "- ANOVA\n",
    "- Correlations\n",
    "- Regressions\n",
    "\n",
    "We have already used some of the important libraries but you have yet to work with [SciKit Learn](http://scikit-learn.org/stable/). SciKit Learn (or sklearn as you'll be importing it as) is an impressive library for machine learning built on NumPy, SciPy, and matplotlib. This library has functions for almost everything you'll ever need for data mining and analysis.\n",
    "\n",
    "But lets start with importing our libraries"
   ]
  },
  {
   "cell_type": "code",
   "execution_count": 1,
   "metadata": {
    "collapsed": true
   },
   "outputs": [],
   "source": [
    "import numpy as np\n",
    "import pandas as pd\n",
    "import matplotlib.pyplot as plt # This is a well-known package for plotting\n",
    "import seaborn as sns\n",
    "import warnings # just to remove annoying warnings that can pop up\n",
    "warnings.filterwarnings(\"ignore\")\n",
    "# This is called a magic function and is specific for notebooks.\n",
    "# This helps us plot inside our notebook (not actually necessary, but its nicer)\n",
    "%matplotlib inline"
   ]
  },
  {
   "cell_type": "code",
   "execution_count": 2,
   "metadata": {
    "collapsed": true
   },
   "outputs": [],
   "source": [
    "# lets load our data\n",
    "df = pd.read_csv('FootballData_anonymous.csv')\n",
    "# Many columns have very long names, but one is unnecessarily long. Lets change that.\n",
    "df = df.rename(index=str,\n",
    "                 columns={'decision (1 = not good enough, 2 = no decision yet, 3 = prof contract)': 'Contract'})"
   ]
  },
  {
   "cell_type": "markdown",
   "metadata": {},
   "source": [
    "### Non-parametric testing\n",
    "Lets steal some text from [wikipedia](https://en.wikipedia.org/wiki/Nonparametric_statistics): *Unlike parametric statistics, nonparametric statistics make no assumptions about the probability distributions of the variables being assessed. The difference between parametric models and non-parametric models is that the former has a fixed number of parameters, while the latter grows the number of parameters with the amount of training data. Note that the non-parametric model does, counterintuitively, contain parameters: the distinction is that parameters are determined by the training data in the case of non-parametric statistics, not the model.* \n",
    "\n",
    "One very useful nonparametric test is the permutation test. Here we estimate a null distribution by randomly shuffle our observed values, create two new groups based on the shuffled data and save the differences between these groups. If our observed differences is better than 95% of our null distribution, we say that we have a significant difference. It is very easy to implement your own permutation test, see below for an example:"
   ]
  },
  {
   "cell_type": "code",
   "execution_count": null,
   "metadata": {
    "collapsed": true
   },
   "outputs": [],
   "source": [
    "# we can set a default value for our parameters when defining our functions\n",
    "# Now this function will run fine without the user having to specify how many\n",
    "# iterations (because the default is nrand = 1000), or which tail \n",
    "# (since tail=0)\n",
    "def permutation_test(x, y, nrand=1000, tail=0):\n",
    "    \"\"\"\n",
    "    Daniel Lindh 2017\n",
    "    Computes a distribution, which the observed mean difference is tested against\n",
    "    This test is for non-paired observations\n",
    "    Args:\n",
    "        x (array/list): The first variable.\n",
    "        y (array/list): The second variable.\n",
    "        nrand (integer): Number of iterations\n",
    "        Tail (integer):\n",
    "            -1: one-tailed x > y\n",
    "             0: two-tailed x != y\n",
    "             1: one-tailed x < y\n",
    "    Returns:\n",
    "        p (float): p-value \n",
    "        \n",
    "    \"\"\"\n",
    "    # Lets make sure we are working with numpy arrays\n",
    "    x, y = np.array(x), np.array(y)\n",
    "    \n",
    "    # This is our observed mean difference\n",
    "    xydiff = x.mean()-y.mean()\n",
    "    \n",
    "    # Lets permute the values, divide into two variables\n",
    "    # save the mean difference into a list\n",
    "    # First put x and y in one large array\n",
    "    xy = np.hstack((x, y))\n",
    "    sizeX = len(x)\n",
    "    sizeY = len(y)\n",
    "    \n",
    "    # we want to save our randomized mean differences in a list\n",
    "    estimates = []\n",
    "    for i in range(nrand):\n",
    "        # we shuffle the values and create two \n",
    "        # groups the same size as x and y\n",
    "        np.random.shuffle(xy)\n",
    "        tempX = xy[:sizeX]\n",
    "        tempY = xy[-sizeY:]\n",
    "        # Append the mean difference to our list\n",
    "        estimates.append(tempX.mean()-tempY.mean())\n",
    "    \n",
    "    # Two tailed x != y\n",
    "    if tail == 0:\n",
    "        diffCount = sum(np.abs(estimates) <= np.abs(xydiff))\n",
    "        p = (1 - (diffCount/nrand))*2\n",
    "        \n",
    "    # One-tailed x > y\n",
    "    elif tail == -1:\n",
    "        diffCount = sum(estimates <= xydiff)\n",
    "        p = diffCount/nrand\n",
    "        \n",
    "    # One-tailed x < y\n",
    "    elif tail == 1:\n",
    "        diffCount = sum(estimates <= xydiff)\n",
    "        p = 1 - (diffCount/nrand)\n",
    "    else:\n",
    "        raise ValueError('Not a valid tail. Please choose -1, 0, or 1.')\n",
    "\n",
    "    return p"
   ]
  },
  {
   "cell_type": "code",
   "execution_count": null,
   "metadata": {
    "collapsed": true
   },
   "outputs": [],
   "source": [
    "from scipy.stats import ttest_ind # lets import the independent t-test function for comparison\n",
    "\n",
    "# lets define some arbitrary values\n",
    "x = [14, 15, 16, 55, 5, 77, 88, 89]\n",
    "# And another one with obviously lower values\n",
    "y = [3, 4, 66, 7, 7, 3, 1, 4, 1, 1]\n",
    "\n",
    "# lets call our permutation function and compare it to the t test\n",
    "p1 = permutation_test(y, x, 10000)\n",
    "t, p = ttest_ind(x, y)\n",
    "print('Independent t-test p = ', p, '\\nPermutation test p = ', p1)"
   ]
  },
  {
   "cell_type": "markdown",
   "metadata": {},
   "source": [
    "<div class='alert alert-warning'>\n",
    "**ToDo**:\n",
    "Change the permutation test function so it returns the null distribution as well. Then execute the code below to print this distribution and our observed difference. Stuck? Click [here](http://lmgtfy.com/?q=python+function+return+multiple+values) ;)\n",
    "</div>\n"
   ]
  },
  {
   "cell_type": "code",
   "execution_count": null,
   "metadata": {
    "collapsed": true
   },
   "outputs": [],
   "source": [
    "x = np.array([14, 15, 16, 55, 5, 77, 88, 89])\n",
    "y = np.array([3, 4, 66, 7, 7, 3, 1, 4, 1, 1])\n",
    "\n",
    "# We call our permutation test function, expecting two objects returned\n",
    "# the first object should be the p-value and the second is the null distribution\n",
    "p, null = permutation_test(y,x, 10000, -1)\n",
    "\n",
    "# lets plot the null distribution\n",
    "sns.distplot(null)\n",
    "\n",
    "# lets plot a red circle on the x-axis indicating our observed value\n",
    "plt.plot(x.mean()-y.mean(), 0, 'ro', markersize=10)\n",
    "\n",
    "# Lets add some text. xy-parameter decides where the arrow should point, xytext-parameter decides\n",
    "# the origin of the text\n",
    "plt.annotate('Our observed mean difference', xy=(x.mean()-y.mean(), 0), xytext=(x.mean()-y.mean()+10, 0.015),\n",
    "            arrowprops=dict(facecolor='black', shrink=0.05), fontsize=15)\n",
    "\n",
    "plt.title('Permutation test: Null distribution and observed difference\\np = {}'.format(p))\n",
    "plt.show()"
   ]
  },
  {
   "cell_type": "markdown",
   "metadata": {},
   "source": [
    "### ANOVA\n",
    "Analysis of Variance, or **ANOVA**, is a useful statistical tool to measure differences in variance within (Sum of squares within) and between groups (sum of squares between). ANOVA is a powerful parametric test where you can test whether or not there is a difference in means between several groups (as in contrast to only two groups). In python there are several ways of doing a one-way ANOVA. Lets have a look at two of them to find out if there is a difference in ATTENTION_RT_mean over 3 different age groups:\n",
    "- 12 => x years old\n",
    "- 12 < x > 18 years old\n",
    "- 18 < x years old"
   ]
  },
  {
   "cell_type": "code",
   "execution_count": null,
   "metadata": {
    "collapsed": true
   },
   "outputs": [],
   "source": [
    "# The first one is using SciPy\n",
    "import scipy.stats as stats\n",
    "\n",
    "# lets make our groups and extract data\n",
    "below_12 = df[df['age'] < 13].ATTENTION_RT_mean.values\n",
    "between_13_18 = df[(df['age'] > 12) & (df['age'] < 19)].ATTENTION_RT_mean.values\n",
    "above_18 = df[df['age'] > 18].ATTENTION_RT_mean.values\n",
    "\n",
    "# We can send in each group as a different argument into the f_oneway-function\n",
    "\n",
    "print(stats.f_oneway(below_12 ,between_13_18, above_18))"
   ]
  },
  {
   "cell_type": "markdown",
   "metadata": {},
   "source": [
    "### Two-way ANOVA (optional)\n",
    "\n",
    "Making a one-way ANOVA in python is simple. However, doing a two-way anova can be a bit more trickier. For those of you who are interested, [Erik Marsja](https://www.marsja.se/three-ways-to-carry-out-2-way-anova-with-python/) explains three ways of doing it in Python. Lets see how one of these solutions would work with our data. Lets say we want to know how age group and contract affects the data in column ATTENTION_RT_mean."
   ]
  },
  {
   "cell_type": "code",
   "execution_count": null,
   "metadata": {
    "collapsed": true
   },
   "outputs": [],
   "source": [
    "from statsmodels.formula.api import ols\n",
    "from statsmodels.stats.anova import anova_lm\n",
    "\n",
    "# lets create a new column called age group\n",
    "df['age_group'] = np.zeros([len(df),1])\n",
    "\n",
    "# lets loop over each player, and add values 1, 2, 3 to the age_group column\n",
    "# dependent on if they over younger than 13, between 13-18, or older ethan 18\n",
    "for i in range(len(df)):\n",
    "    if df['age'][i] < 13:\n",
    "        df['age_group'][i] = 1\n",
    "    elif df['age'][i] > 18:\n",
    "        df['age_group'][i] = 3\n",
    "    else:\n",
    "        df['age_group'][i] = 2"
   ]
  },
  {
   "cell_type": "code",
   "execution_count": null,
   "metadata": {
    "collapsed": true
   },
   "outputs": [],
   "source": [
    "# These power calculations are taken from Marsjas website\n",
    "\n",
    "def eta_squared(aov):\n",
    "    aov['eta_sq'] = 'NaN'\n",
    "    aov['eta_sq'] = aov[:-1]['sum_sq']/sum(aov['sum_sq'])\n",
    "    return aov\n",
    " \n",
    "def omega_squared(aov):\n",
    "    mse = aov['sum_sq'][-1]/aov['df'][-1]\n",
    "    aov['omega_sq'] = 'NaN'\n",
    "    aov['omega_sq'] = (aov[:-1]['sum_sq']-(aov[:-1]['df']*mse))/(sum(aov['sum_sq'])+mse)\n",
    "    return aov\n",
    " "
   ]
  },
  {
   "cell_type": "code",
   "execution_count": null,
   "metadata": {
    "collapsed": true
   },
   "outputs": [],
   "source": [
    "\"\"\"\n",
    "This string below is a patsy formula for a regression fit (more about this in the end of this tutorial).\n",
    "We want to fit age group and Contract to ATTENTION_RT_mean\n",
    "We first name our dependent variable, and then after the tilde we name the predictors\n",
    "and lastly the interactions we are interested in (age_group:C(Contract) in this case)\n",
    "Describing Contract with C() lets patsy know it is a categorical variable\n",
    "\"\"\"\n",
    "formula = 'ATTENTION_RT_mean ~ age_group + C(Contract) + age_group:C(Contract)'\n",
    "\n",
    "# lets fit our model with the formula and data\n",
    "model = ols(formula, df).fit()\n",
    "# send it to the anova for linear models\n",
    "aov_table = anova_lm(model, typ=2)\n",
    "\n",
    "# lets call the functions we defined above to add the power measurements\n",
    "eta_squared(aov_table)\n",
    "omega_squared(aov_table)\n",
    "\n",
    "# And print the results\n",
    "print(aov_table)"
   ]
  },
  {
   "cell_type": "markdown",
   "metadata": {},
   "source": [
    "There is significant main effects of Contract and age group, however no significant interaction between the two. We can also see that age group explains around 18% of the variance."
   ]
  },
  {
   "cell_type": "markdown",
   "metadata": {},
   "source": [
    "### Correlations\n",
    "As you know, certain cognitive traits develop later in life. Lets find out if there is any statistical relationship between **ANTICIPATION_pointspersecond** and **age**. To test this we can try and use Pearsons correlation. The pearson correlation is a measurement of how strong the relationship is between two variables. The coeffiecent ranges between -1 to 1, where -1 is perfectly anticorrelated and 1 is a perfect correlation. This is the formula: <br/>\n",
    "<img src='pearsons.gif' style=\"float:left;width:200px;height:120px;\"><br/><br/><br/><br/><br/><br/>\n",
    "\n",
    "**Here is a simple implementation:**"
   ]
  },
  {
   "cell_type": "code",
   "execution_count": null,
   "metadata": {
    "collapsed": true
   },
   "outputs": [],
   "source": [
    "# This is how we define functions\n",
    "# You should definitely know this by now :)\n",
    "def my_pearsonr(x, y):\n",
    "    \"\"\"\n",
    "    Daniel Lindh 2017\n",
    "    Returns the correlation coeffecient between x and y\n",
    "    Args:\n",
    "        x (array)/list: The first variable.\n",
    "        y (array/list): The second variable.\n",
    "    Returns:\n",
    "        r (float): The pearson correlation coeffecient r\n",
    "    \"\"\"\n",
    "    # Lets make sure we are dealing with numpy arrays\n",
    "    x, y = np.array(x), np.array(y)\n",
    "    \n",
    "    # lets make sure x and y are the same length\n",
    "    assert len(x) == len(y), 'x and y need to be the same length!'\n",
    "    \n",
    "    n = len(x)\n",
    "    # lets take the dot product of x and y \n",
    "    # this corresponds to Exy\n",
    "    # we could also have used sum(x*y)\n",
    "    sum_xy = np.dot(x, y) \n",
    "    \n",
    "    # lets set up the nominator and the denominator\n",
    "    r = (n*sum_xy-sum(x)*sum(y)) / (np.sqrt((n*sum(x**2)-sum(x)**2) * (n*sum(y**2)-sum(y)**2)))\n",
    "    return r   "
   ]
  },
  {
   "cell_type": "markdown",
   "metadata": {},
   "source": [
    "<div class='alert alert-info'>\n",
    "**ToThink**: Make sure you understand the correspondance between the formula and the code\n",
    "</div>"
   ]
  },
  {
   "cell_type": "markdown",
   "metadata": {},
   "source": [
    "However, we don't really have to define our own functions for statistical testing. In python we have several really handy statistical packages, such as SciPy. Scipy comes with a lot of useful statistical tests. Lets import a pearsons r:"
   ]
  },
  {
   "cell_type": "code",
   "execution_count": null,
   "metadata": {
    "collapsed": true
   },
   "outputs": [],
   "source": [
    "from scipy.stats import pearsonr"
   ]
  },
  {
   "cell_type": "markdown",
   "metadata": {},
   "source": [
    "Now we can test our data for linear relationships:"
   ]
  },
  {
   "cell_type": "code",
   "execution_count": null,
   "metadata": {
    "collapsed": true
   },
   "outputs": [],
   "source": [
    "age = df['age']\n",
    "ANT_pps = df['ANTICIPATION_pointspersecond']\n",
    "\n",
    "# pearsonsr returns 2 values. We can unpack them directly like this\n",
    "r, p = pearsonr(age, ANT_pps)\n",
    "\n",
    "#lets evaluate our own pearson implementation as well:\n",
    "\n",
    "r2 = my_pearsonr(age, ANT_pps)\n",
    "\n",
    "print('SciPy pearson r: ', r, '\\nOur DIY r: ', r2)\n",
    "print('p-value: ', p)"
   ]
  },
  {
   "cell_type": "markdown",
   "metadata": {},
   "source": [
    "**Good news**! Our implementation returns the exact same results. *Even better news*, the p-value is through the roof. As we can see it is 46 zeros, followed by 9, way below a typical alpha value of 0.05."
   ]
  },
  {
   "cell_type": "markdown",
   "metadata": {},
   "source": [
    "<div class='alert alert-warning'>\n",
    "**ToDo**:\n",
    "Copy paste the code above, make a new variable that only contains data from people who we know did or didn't get a contract (i.e. everyone either coded 1 or 3 in the \"Contract\" column). Test the relationship again.\n",
    "</div>"
   ]
  },
  {
   "cell_type": "code",
   "execution_count": null,
   "metadata": {
    "collapsed": true
   },
   "outputs": [],
   "source": [
    "# copy paste above code here"
   ]
  },
  {
   "cell_type": "markdown",
   "metadata": {
    "collapsed": true
   },
   "source": [
    "## Regression models and predictions\n",
    "This section will be the most advance, most useful thing you will get to this course. Machine learning has become one of the most popular terms in recent years. It refers to a collection of methods for predicting data based on one or several attributes. One of the most basic and important machine learning concepts is regression models. In supervised machine learning we call the outcome we want to predict the target variable (usually denoted with lower case y), and the attributes, or features, used to predict are called predictive variables. The predictive variables are usually labeled lower case x, when its a single variable, or upper case X if it is multivariate.\n",
    "\n",
    "In the X-variable, observations are stored in rows and features are stored in the columns. Lets say we have measured the temperature over the course of 10 days, which we want to use to predict ice cream sales. Our X-variable would look something like this:\n",
    "\n",
    "|Temperature|\n",
    "|-|\n",
    "|20.4|\n",
    "|12.1|\n",
    "|13.4|\n",
    "|23.0|\n",
    "|29.7|\n",
    "|28.4|\n",
    "|19.0|\n",
    "|13.4|\n",
    "|14.1|\n",
    "|13.4|\n",
    "\n",
    "\n",
    "While our y-variable might look like this:\n",
    "\n",
    "|Ice Cream Sales|\n",
    "|-|\n",
    "|22|\n",
    "|13|\n",
    "|13|\n",
    "|33|\n",
    "|34|\n",
    "|38|\n",
    "|16|\n",
    "|11|\n",
    "|12|\n",
    "|14|\n",
    "\n",
    "\n",
    "Now, we can try and see how we can fit the temperature and rain information to ice cream sales."
   ]
  },
  {
   "cell_type": "code",
   "execution_count": 3,
   "metadata": {},
   "outputs": [
    {
     "data": {
      "image/png": "[encoded data removed]",
      "text/plain": [
       "<matplotlib.figure.Figure at 0x10eaf91d0>"
      ]
     },
     "metadata": {},
     "output_type": "display_data"
    }
   ],
   "source": [
    "# Define our predictor array\n",
    "x = np.array([20.4,\n",
    "            8.1,\n",
    "            13.4,\n",
    "            23,\n",
    "            29.7,\n",
    "            28.2,\n",
    "            19,\n",
    "            9.4,\n",
    "            17.1,\n",
    "            13.1])\n",
    "\n",
    "# Define our target array\n",
    "y = np.array([22, 13, 18, 33, 34, 38, 25, 11, 19, 14])\n",
    "\n",
    "# Lets plot the temperature on x and ice cream sales on y\n",
    "plt.scatter(x, y)\n",
    "plt.title('Temperature and Ice cream sales')\n",
    "plt.ylabel('Ice cream sales')\n",
    "plt.xlabel('Temperature')\n",
    "\n",
    "plt.show()"
   ]
  },
  {
   "cell_type": "markdown",
   "metadata": {},
   "source": [
    "### Dimensions\n",
    "**Important**! Regression models expect our x/X-data to be in two dimensions.\n",
    "This is important. If we only have one variable in our predictor array\n",
    "we need to make sure it is still 2-dimensional"
   ]
  },
  {
   "cell_type": "code",
   "execution_count": 4,
   "metadata": {},
   "outputs": [
    {
     "name": "stdout",
     "output_type": "stream",
     "text": [
      "Temperature has only one dimesion: (10,)\n",
      "[ 20.4   8.1  13.4  23.   29.7  28.2  19.    9.4  17.1  13.1]\n",
      "Now temperature has two dimesions: (10, 1)\n",
      "[[ 20.4]\n",
      " [  8.1]\n",
      " [ 13.4]\n",
      " [ 23. ]\n",
      " [ 29.7]\n",
      " [ 28.2]\n",
      " [ 19. ]\n",
      " [  9.4]\n",
      " [ 17.1]\n",
      " [ 13.1]]\n"
     ]
    }
   ],
   "source": [
    "# Now we print and see its only 1 dimension\n",
    "print('Temperature has only one dimesion:', x.shape)\n",
    "print(x)\n",
    "# Lets use reshape, to add a dimension\n",
    "x = x.reshape([len(x), 1])\n",
    "print('Now temperature has two dimesions:', x.shape)\n",
    "print(x)"
   ]
  },
  {
   "cell_type": "markdown",
   "metadata": {},
   "source": [
    "*Its important to realize that we haven't added any values here. Just made sure its in a column*"
   ]
  },
  {
   "cell_type": "markdown",
   "metadata": {},
   "source": [
    "### Fitting the data\n",
    "The typical formula for ordinary least square where we have only one predictor is: $y = \\beta_1 x + \\beta_0$\n",
    "\n",
    "Here, our goal is to estimate the $\\beta s$, where $\\beta_1$ is the slope and $\\beta_0$ is the intercept. This can be done analytically or through iterative processes (for example gradient descent). However, there are several ways of doing this automatically in python, and you don't have to worry too much of what is happening under the hood. Lets import a linear model from SciKit learn, and fit temperature to ice cream sales:"
   ]
  },
  {
   "cell_type": "code",
   "execution_count": 5,
   "metadata": {},
   "outputs": [
    {
     "name": "stdout",
     "output_type": "stream",
     "text": [
      "slope = 1.2328012984153134, intercept = 0.33698444674621797\n"
     ]
    }
   ],
   "source": [
    "# lets import a linear regression model\n",
    "from sklearn.linear_model import LinearRegression\n",
    "\n",
    "# Make an instance of our LinearRegression-class\n",
    "lr = LinearRegression()\n",
    "# Now we fit our data\n",
    "lr.fit(x, y)\n",
    "\n",
    "# Now we can have look at the Beta (coefficient, aka the slope) and our intercept/B0\n",
    "# (where our line crosses y at x = 0)\n",
    "print('slope = {}, intercept = {}'.format(lr.coef_[0], lr.intercept_))"
   ]
  },
  {
   "cell_type": "markdown",
   "metadata": {},
   "source": [
    "**Lets plot our data again, and add a regression line using the beta and the intercept from our fit**"
   ]
  },
  {
   "cell_type": "code",
   "execution_count": 6,
   "metadata": {},
   "outputs": [
    {
     "data": {
      "image/png": "[encoded data removed]",
      "text/plain": [
       "<matplotlib.figure.Figure at 0x112e03780>"
      ]
     },
     "metadata": {},
     "output_type": "display_data"
    }
   ],
   "source": [
    "# Plot temperature and sales\n",
    "plt.scatter(x, y) \n",
    "\n",
    "# we want a point at x = zero, and at x = max value for temperature\n",
    "x_l = [0, max(x)]\n",
    "# Lets use our beta and intercept to figure out where on the y-axis they correspond\n",
    "# by using y = b*X+b0\n",
    "y_l = [lr.coef_ * x_l[0] + lr.intercept_, lr.coef_ * x_l[1] + lr.intercept_]\n",
    "\n",
    "plt.plot(x_l, y_l)\n",
    "\n",
    "# Now lets annotate with arrows our found values\n",
    "\n",
    "plt.annotate('The intercept', xy=(0, lr.intercept_), xytext=(10, 0),\n",
    "            arrowprops=dict(facecolor='black', shrink=0.05), fontsize=12)\n",
    "\n",
    "plt.annotate('Our slope', xy=(7, 9), xytext=(2, 25),\n",
    "            arrowprops=dict(facecolor='black', shrink=0.05), fontsize=12)\n",
    "plt.annotate('', xy=(20, 25), xytext=(7, 25),\n",
    "            arrowprops=dict(facecolor='black', shrink=0.05), fontsize=12)\n",
    "\n",
    "plt.title('Temperature and Ice cream')\n",
    "plt.ylabel('Ice cream sales')\n",
    "plt.xlabel('Temperature')\n",
    "plt.show()"
   ]
  },
  {
   "cell_type": "markdown",
   "metadata": {},
   "source": [
    "### Predictions\n",
    "\n",
    "Now we can predict ice cream sales with new, unobserved temperatures:"
   ]
  },
  {
   "cell_type": "code",
   "execution_count": 7,
   "metadata": {},
   "outputs": [
    {
     "data": {
      "image/png": "[encoded data removed]",
      "text/plain": [
       "<matplotlib.figure.Figure at 0x112e81908>"
      ]
     },
     "metadata": {},
     "output_type": "display_data"
    },
    {
     "name": "stdout",
     "output_type": "stream",
     "text": [
      "We predict that 11 degrees will result in 14 ice creams being sold\n",
      "We predict that 16 degrees will result in 20 ice creams being sold\n",
      "We predict that 27 degrees will result in 34 ice creams being sold\n"
     ]
    }
   ],
   "source": [
    "# Lets predict ice cream sales for these temperatures\n",
    "new_x = [[11], [16], [27]] # list within list, this gives 2 dimensions\n",
    "pred = lr.predict(new_x)\n",
    "\n",
    "\"\"\"\n",
    "What is important to understand that all of our predictions now will end up on the regression line\n",
    "we just drew above. Lets plot and see what it looks like!\n",
    "\"\"\"\n",
    "\n",
    "# this is basically the same thing we plotted above\n",
    "plt.scatter(x, y) \n",
    "x_l = [6, max(x)]\n",
    "y_l = [lr.coef_ * x_l[0] + lr.intercept_, lr.coef_ * x_l[1] + lr.intercept_]\n",
    "plt.plot(x_l, y_l)\n",
    "plt.xlabel('Temperature')\n",
    "plt.ylabel('Ice cream sales')\n",
    "\n",
    "# Now lets add our predicted values to the plot (red circles)\n",
    "plt.plot(new_x, pred, 'ro')\n",
    "plt.show()\n",
    "\n",
    "# Now lets iterate over the new temperatures and the predicted ice cream sales\n",
    "for i in range(len(pred)):\n",
    "    print('We predict that {0} degrees will result in {1:.0f} ice creams being sold'.format(new_x[i][0], pred[i]))"
   ]
  },
  {
   "cell_type": "markdown",
   "metadata": {},
   "source": [
    "<div class='alert alert-info'>\n",
    "**ToThink**: \n",
    "In the above code we do this operation to calculate the point on the y-axis:<br/>\n",
    "</div>\n",
    "\n",
    "```python\n",
    "lr.coef_ * x_l[0] + lr.intercept_\n",
    "```\n",
    "\n",
    "<div class='alert alert-info'>\n",
    "Make sure you understand how this relates to:\n",
    "</div>\n",
    "$y = \\beta_1 x + \\beta_0$\n",
    "\n",
    "<div class='alert alert-info'>\n",
    "And that this is crucial for how we make predictions\n",
    "</div>"
   ]
  },
  {
   "cell_type": "markdown",
   "metadata": {},
   "source": [
    "As you can see that since our predictions always will fall on the line, we will have some type of error in our predictions (its quite unlikely that an observed value would land exactly on the line). More on this later."
   ]
  },
  {
   "cell_type": "markdown",
   "metadata": {},
   "source": [
    "<div class='alert alert-warning'>\n",
    "**ToDo**:\n",
    "Finish the code below! Make a function called <b>fit_predict_print</b> that takes the arguments:<br />\n",
    "X - a two dimensional array with features on the columns and observations by rows<br />\n",
    "y - an array with target values<br />\n",
    "lr - an instance of a linear model<br />\n",
    "The function fits the data and for each observation prints out:<br />\n",
    "\"Actual: [insert y-data] - Predicted: [insert prediction]\"<br />\n",
    "We should call the function with:\n",
    "</div>\n",
    "```python\n",
    "lr = LinearRegression()\n",
    "fit_predict_print(X, y, lr)\n",
    "```\n"
   ]
  },
  {
   "cell_type": "code",
   "execution_count": null,
   "metadata": {
    "collapsed": true
   },
   "outputs": [],
   "source": [
    "lr.fit(x, y)\n",
    "# If we now send in X to predictions we can see how far away the solution we were\n",
    "prediction = lr.predict(x)\n",
    "\n",
    "# lets print out the predicted and actual (y) ice cream sales\n",
    "print(prediction)\n",
    "print(y)"
   ]
  },
  {
   "cell_type": "code",
   "execution_count": null,
   "metadata": {
    "collapsed": true
   },
   "outputs": [],
   "source": [
    "# And this code should be used to test your function\n",
    "lr = LinearRegression()\n",
    "fit_predict_print(x, y, lr)"
   ]
  },
  {
   "cell_type": "markdown",
   "metadata": {},
   "source": [
    "### The intercept\n",
    "When using LineraRegression (or any other model) in scikit learn, the intercept is automatically fitted. However, if you want to do this yourself, you need to add a column of ones in your array. Lets turn off intercept and see what happens:"
   ]
  },
  {
   "cell_type": "code",
   "execution_count": null,
   "metadata": {
    "collapsed": true,
    "scrolled": true
   },
   "outputs": [],
   "source": [
    "# Not fitting the intercept\n",
    "lr = LinearRegression(fit_intercept=False)\n",
    "# we can fit and directly predict by doing this:\n",
    "no_intercept_pred = lr.fit(x, y).predict(x)\n",
    "print('With no intercept:', no_intercept_pred)\n",
    "\n",
    "# Fitting the intercept by adding a column of ones ourselves\n",
    "lr = LinearRegression(fit_intercept=False)\n",
    "# hstack and vstack are two ways of concatenating arrays, either horizontally or vertically \n",
    "x_intercept = np.hstack((x, np.ones((len(y),1))))\n",
    "my_intercept_pred = lr.fit(x_intercept, y).predict(x_intercept)\n",
    "print('\\nWith my intercept:', my_intercept_pred)\n",
    "\n",
    "# And what it looks like when we let the class instance do it by itself\n",
    "# we don't need to say fit_intercept=True, this is the default\n",
    "lr = LinearRegression()\n",
    "no_intercept_pred = lr.fit(x, y).predict(x)\n",
    "print('\\nWith default intercept:', no_intercept_pred)"
   ]
  },
  {
   "cell_type": "markdown",
   "metadata": {},
   "source": [
    "As you can see, the two last options ends up being the same. The difference from the first option, where we don't fit the intercept, is small. However, this could end up being detrimental for your results if you don't know what is happening, especially if you want to solve this yourself. **In fact**, you can easily solve $\\beta $ with one line of code using matrix algebra (**YAY**): \n",
    "$\\beta =(X′X)^{−1} X′y$\n",
    "\n",
    "Since we all love doing these type of things, lets try it out quickly:"
   ]
  },
  {
   "cell_type": "code",
   "execution_count": null,
   "metadata": {
    "collapsed": true
   },
   "outputs": [],
   "source": [
    "# We are adding the column of ones as earlier.\n",
    "# In order to do matrix algebra, we also need to turn our arrays into matrices\n",
    "x_mat= np.mat(np.hstack((x, np.ones((len(y),1)))))\n",
    "y_mat = np.mat(y).T\n",
    "\n",
    "# lets start by fitting it using sklearn\n",
    "lr = LinearRegression(fit_intercept=False)\n",
    "lr.fit(x_mat, y)\n",
    "betas = lr.coef_\n",
    "print('Betas:', betas)\n",
    "\n",
    "# Now the same thing by ourselves using the matrix formula above\n",
    "# T = transpose of matrix \n",
    "# I = inverse of matrix\n",
    "my_betas = (x_mat.T * x_mat).I * x_mat.T * y_mat\n",
    "print('My betas:', my_betas.ravel())"
   ]
  },
  {
   "cell_type": "markdown",
   "metadata": {},
   "source": [
    "Here, since we added the column of ones as the second column, the second beta we get out is the **intercept / $\\beta 0$**. You can easily make sure this is the case by comparing it with values from when we first printed out the slope and the intercept above. Knowing this: $y = \\beta_1 x + \\beta_0$ you can easily calculate the predicted ice cream sale yourself based on any temperature.\n",
    "\n",
    "### Accuracy and Coefficient of determination\n",
    "One way to evaluate the efficacy of a model is to calculate the mean squared error (MSE), where **lower** values means better fit. However, a standardized measure of this is the $R^2$, or the coefficient of determination. There are two simople ways to calculate this. \n",
    "\n",
    "1. First by calculating the MSE for our prediction and then normalize it by the MSE of the mean. The rationale is that if our variables are informative, we should predict the outcome with less error than the mean.\n",
    "2. The second way is to square the pearson correlation between target and prediction"
   ]
  },
  {
   "cell_type": "code",
   "execution_count": null,
   "metadata": {
    "collapsed": true
   },
   "outputs": [],
   "source": [
    "# This is the first way. Lets start by fitting our data and then\n",
    "# calculating the MSE for our prediction\n",
    "lr.fit(x, y)\n",
    "pred = lr.predict(x)\n",
    "MSE = np.mean((pred-y)**2)\n",
    "\n",
    "# And now the mse for the mean\n",
    "mean_MSE = np.mean((np.mean(y)-y)**2)\n",
    "\n",
    "R2_1 = (mean_MSE - MSE) / mean_MSE\n",
    "R2_2 = pearsonr(y, pred)[0]**2\n",
    "# print results\n",
    "print('R2 from sum of squared errors:', R2_1)\n",
    "print('R2 from squared pearsons r:', R2_2)\n"
   ]
  },
  {
   "cell_type": "markdown",
   "metadata": {},
   "source": [
    "The $R^2$ tells you how much of the variance is explained by the predicting variables, more of which you can read [here](https://en.wikipedia.org/wiki/Coefficient_of_determination)!"
   ]
  },
  {
   "cell_type": "markdown",
   "metadata": {},
   "source": [
    "## Multivariate and Generalizability!\n",
    "Alright, cool. So we can find the intercept and the slope between two variables. However, this method easily extends to multivariate problems, where we can get better predictions if we use information from several variables to predict our target. Lets try it out on our football dataset.\n",
    "\n",
    "Additionally, above we are evaluating our models on the same X that we used to train it on. This is incredibly dangerous for interpretation, because we are very likely to overfit our data, believing it to be much better than it acutally is. One way to solve this is to divide your data into a training and test set. This is called **cross-validation**, and is a cornerstone in all types of data science. Lets do this on our **football** dataset, and where try to predict age based on a few WM scores! \n",
    "\n",
    "We could randomly pick out half of the people from our data set and use these at training data, or we can just use a convenient function from scikit learn called **train_test_split**:\n"
   ]
  },
  {
   "cell_type": "code",
   "execution_count": null,
   "metadata": {
    "collapsed": true
   },
   "outputs": [],
   "source": [
    "from sklearn.model_selection import train_test_split\n",
    "\n",
    "# lets pick out WM1, WM2, WM3 (you can use shape to check that this yields an (1086, 3) array)\n",
    "X = df[['WM1', 'WM2', 'WM3']]\n",
    "# and our target\n",
    "y = df['age']\n",
    "\n",
    "# lets split the data\n",
    "X_train, X_test, y_train, y_test = train_test_split(X, y, test_size=0.5, random_state=0)\n",
    "\n",
    "# lets print the size of X_train and X_test. Since we set test_size to 0.5, they should be equally large\n",
    "print(X_train.shape, X_test.shape)"
   ]
  },
  {
   "cell_type": "code",
   "execution_count": null,
   "metadata": {
    "collapsed": true
   },
   "outputs": [],
   "source": [
    "# Excellent! Now lets train our regressor model and see how well we do!\n",
    "\n",
    "lr = LinearRegression()\n",
    "# fit train data\n",
    "lr.fit(X_train, y_train)\n",
    "# predict test data\n",
    "X_pred = lr.predict(X_test)\n",
    "\n",
    "# lets make a scatterplot with our prediction on the y-axis, and our target value on the x axis\n",
    "\n",
    "plt.scatter(y_test, X_pred)\n",
    "plt.xlabel('Actual age')\n",
    "plt.ylabel('Predicted age')\n",
    "\n",
    "# Lets put the pearson r and MSE in the title\n",
    "r, p = pearsonr(y_test, X_pred)\n",
    "MSE = np.mean((y_test-X_pred)**2)\n",
    "\n",
    "plt.title('Predicted and actual age\\npearson r = {0:.3f} - MSE = {1:.3f}'.format(r, MSE))\n",
    "plt.show()"
   ]
  },
  {
   "cell_type": "markdown",
   "metadata": {},
   "source": [
    "## Wow! \n",
    "It looks like we very simply can train a regression model to predict age accurately for independent data based on a few working memory scores. \n",
    "\n",
    "<div class='alert alert-info'>\n",
    "**ToThink**: \n",
    "What would a negative pearson correlation mean for our fit?\n",
    "</div>\n",
    "\n",
    "<div class='alert alert-warning'>\n",
    "**ToDo**:\n",
    "Now try to predict age using 5 columns of your choice, calculate the coefficient of determination and see if its better\n",
    "</div>"
   ]
  },
  {
   "cell_type": "code",
   "execution_count": null,
   "metadata": {
    "collapsed": true
   },
   "outputs": [],
   "source": [
    "# Put your solution here"
   ]
  },
  {
   "cell_type": "markdown",
   "metadata": {},
   "source": [
    "### What? You want more machine learning? Fine.\n",
    "What you have seen here is just the tip of the iceburg! For a selection of available supervised learning models, click [here](http://scikit-learn.org/stable/supervised_learning.html#supervised-learning)! If you want to try it out, you can easily change from a normal linear regression (like above) to a more advanced support vector regression:\n",
    "\n",
    "```python\n",
    "from sklearn.svm import SVR\n",
    "lr = SVR()\n",
    "\n",
    "lr.fit(X_train, y_train)\n",
    "# predict test data\n",
    "X_pred = lr.predict(X_test)\n",
    "\n",
    "etc.\n",
    "```\n",
    "\n",
    "However, its not guaranteed this will yield better results."
   ]
  }
 ],
 "metadata": {
  "kernelspec": {
   "display_name": "Python 3",
   "language": "python",
   "name": "python3"
  },
  "language_info": {
   "codemirror_mode": {
    "name": "ipython",
    "version": 3
   },
   "file_extension": ".py",
   "mimetype": "text/x-python",
   "name": "python",
   "nbconvert_exporter": "python",
   "pygments_lexer": "ipython3",
   "version": "3.6.0"
  }
 },
 "nbformat": 4,
 "nbformat_minor": 2
}
