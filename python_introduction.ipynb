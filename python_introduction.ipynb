{
 "cells": [
  {
   "cell_type": "markdown",
   "metadata": {},
   "source": [
    "# Python introduction\n",
    "\n",
    "Maybe some of you have some experience with Python from previous courses, however, here we will start by assuming no previous knowledge. Learning how to program is mostly learning how to define and find solutions for your problems. There are a lot of great online sources for programming problem shooting (such as [Stack Overflow](https://stackoverflow.com/) and the [Python Documentation](https://docs.python.org/3/)), which you'll notice will be of great use for you in the process.\n",
    "\n",
    "For this course, you'll have to have Python 3, with the following packages:\n",
    "- numpy (for arrays and matrices)\n",
    "- pandas (for loading, handling and saving data)\n",
    "- seaborn / matplot lib (for plotting)\n",
    "- scipy (for basic statistics)\n",
    "- scikit learn (for regression models and machine learning)\n",
    "- Jupyter (for running your scripts and view plots)\n",
    "\n",
    "\n",
    "Luckily, installing <B>Anaconda</B> conveniently gives you all of this:\n",
    "https://www.continuum.io/downloads\n",
    "\n",
    "Credits: This tutorial is partly based on work by [Tomas Knapen and Daan van Es](https://tknapen.github.io) (VU University) and [Lukas Snoek](https://github.com/lukassnoek) (University of Amsterdam)."
   ]
  },
  {
   "cell_type": "markdown",
   "metadata": {},
   "source": [
    "## What is Python?\n",
    "\n",
    "[Lifted from pythons official website:](https://www.python.org/doc/essays/blurb/)\n",
    "\n",
    "Python is an interpreted, object-oriented, high-level programming language with dynamic semantics. Its high-level built in data structures, combined with dynamic typing and dynamic binding, make it very attractive for Rapid Application Development, as well as for use as a scripting or glue language to connect existing components together. Python's simple, easy to learn syntax emphasizes readability and therefore reduces the cost of program maintenance. Python supports modules and packages, which encourages program modularity and code reuse. The Python interpreter and the extensive standard library are available in source or binary form without charge for all major platforms, and can be freely distributed.\n",
    "\n",
    "Often, programmers fall in love with Python because of the increased productivity it provides. Since there is no compilation step, the edit-test-debug cycle is incredibly fast. Debugging Python programs is easy: a bug or bad input will never cause a segmentation fault. Instead, when the interpreter discovers an error, it raises an exception. When the program doesn't catch the exception, the interpreter prints a stack trace. A source level debugger allows inspection of local and global variables, evaluation of arbitrary expressions, setting breakpoints, stepping through the code a line at a time, and so on. The debugger is written in Python itself, testifying to Python's introspective power. On the other hand, often the quickest way to debug a program is to add a few print statements to the source: the fast edit-test-debug cycle makes this simple approach very effective.\n"
   ]
  },
  {
   "cell_type": "markdown",
   "metadata": {},
   "source": [
    "## Contents:\n",
    "\n",
    "This tutorial will treat the following concepts in order:\n",
    "\n",
    "1. Jupyter notebooks\n",
    "2. General Python"
   ]
  },
  {
   "cell_type": "markdown",
   "metadata": {},
   "source": [
    "## 1. Jupyter Notebooks\n",
    "\n",
    "Congratulations, you've managed to fire up your first Jupyter notebook! \n",
    "\n",
    "But wait, what exactly is an Jupyter notebook?\n",
    "If you can stand the horrible resolution and music, you could check out [this video](https://youtu.be/H6dLGQw9yFQ) (they use the old name, 'IPython Notebook'), or you could look at the written explanation below.\n",
    "\n",
    "Basically, you are using the web-browser as a kind of editor from which you can run python code, similar to the MATLAB interactive editor or RStudio. The cool thing about these notebooks is that they allow you to mix code \"cells\" (see below) and text \"cells\" (such as this one). The (printed) output from code blocks are displayed right below the code blocks themselves. \n",
    "\n",
    "Jupyter notebooks have two **modes**: edit mode and command mode.\n",
    "\n",
    "- Command mode is indicated by a grey cell border with a blue left margin (as is the case now!): When you are in command mode, you are able to edit the notebook as a whole, but not type into individual cells. Most importantly, in command mode, the keyboard is mapped to a set of shortcuts that let you perform notebook and cell actions efficiently (some shortcuts in command mode will be discussed later!). Enter command mode by pressing Esc or using the mouse to click outside a cell’s editor area; <br><br>\n",
    "- Edit mode is indicated by a green cell border and a prompt showing in the editor area: When a cell is in edit mode, you can type into the cell, like a normal text editor. Enter edit mode by pressing Enter or using the mouse to double-click on a cell’s editor area.\n",
    "\n",
    "When you're reading and scrolling through the tutorials, you'll be in the command mode mostly. But once you have to program (or write) stuff yourself, you have to switch to edit mode. But we'll get to that. First, we'll explain something about the two types of cells: code cells and text cells."
   ]
  },
  {
   "cell_type": "markdown",
   "metadata": {},
   "source": [
    "### 1.1. Code cells\n",
    "Code cells are the place to write your Python code, similar to MATLAB 'code sections' (which are usually deliniated by %%). Importantly, unlike the interactive editors in RStudio and MATLAB, a code cell in Jupyter notebooks can only be run all at once. This means you cannot run it line-by-line, but you have to run the entire cell!\n",
    "\n",
    "Let's look at an example (click the code cell below and press the \"play\" button in the notebooks toolbar or press ctr+Enter)."
   ]
  },
  {
   "cell_type": "code",
   "execution_count": null,
   "metadata": {
    "collapsed": true,
    "scrolled": false
   },
   "outputs": [],
   "source": [
    "print(\"I'm printing Python code\")\n",
    "print(3+3)"
   ]
  },
  {
   "cell_type": "markdown",
   "metadata": {},
   "source": [
    "As you can see above, you can only run the entire cell (i.e. both print statements). Sometimes, of course, you'd like to organise code across multiple cells. To do this, you can simply add new blocks (cells) by selecting \"Insert --> Insert Cell Below\" on the toolbar (or use the shortcut B (or A) when you're in command mode; \"B\" refers to \"Below\" and \"A\" for \"Above\"). This will insert a new code cell below the cell you have currently highlighted (the currently highlighted cell has a blue box around it). \n",
    "\n",
    "\n",
    "<div class=\"alert alert-warning\">\n",
    "**ToDo**: Try inserting a cell below and write some code (e.g. \"print(10\\*10)\") and execute.\n",
    "</div>\n"
   ]
  },
  {
   "cell_type": "markdown",
   "metadata": {},
   "source": [
    "Another cool feature of Jupyter notebooks is that you can display figures in the same notebook! You simply define some plots in a code cell and it'll output the plot below it.\n",
    "\n",
    "Check it out by executing (click the \"play\" button or ctr+Enter) the next cell."
   ]
  },
  {
   "cell_type": "code",
   "execution_count": null,
   "metadata": {
    "collapsed": true
   },
   "outputs": [],
   "source": [
    "# We'll get to what the code means later in the tutorial\n",
    "import matplotlib.pyplot as plt # The plotting package 'Matplotlib' is discussed in section 3!\n",
    "\n",
    "# This command makes sure that the figure is plotted in the notebook instead of in a separate window!\n",
    "%matplotlib inline\n",
    "\n",
    "# Plot\n",
    "plt.plot(range(10))\n",
    "plt.show()"
   ]
  },
  {
   "cell_type": "markdown",
   "metadata": {},
   "source": [
    "### 1.2. Text ('markdown') cells\n",
    "Next to code cells, jupyter notebooks allow you to write text in so-called \"markdown cells\" (the cell this text is written in is, obviously, also a markdown cell). Markdown cells accept plain text and can be formatted by special markdown-syntax. A couple of examples:\n",
    "\n",
    "\\# One hash creates a large heading <br>\n",
    "\\#\\# Two hashes creates a slightly smaller heading (this goes up to four hashes)\n",
    "\n",
    "Bold text can be created by enclosing text in \\*\\*double asterisks\\*\\* and italicized text can be created by enclosing text in \\*single asterisks\\*. You can even include URLs and insert images from the web; check this [link](https://github.com/adam-p/markdown-here/wiki/Markdown-Cheatsheet) for a cheatsheet with markdown syntax and options! All the special markdown-syntax and options will be converted to readable text *after running the text cell* (again, by pressing the \"play\" icon in the toolbar or by ctr+Enter).\n",
    "\n",
    "To insert a text (markdown) cell, insert a new cell (\"Insert --> Insert Cell Below\" or ctr+B). Then, *while highlighting the new cell*, press \"Cell --> Cell Type --> Markdown\" on the toolbar on top of the notebook (or, while in command mode, press ctr+m; \"m\" refers to \"markdown\"). You should see the prompt, the **`In [ ]`** thingie, disappear. Voilà, now it's a text cell!\n",
    "\n",
    "Try it below! "
   ]
  },
  {
   "cell_type": "markdown",
   "metadata": {},
   "source": [
    "<div class=\"alert alert-warning\">\n",
    "**ToDo**: Insert new markdown cell with the text:\n",
    "\n",
    "**OMG** this is the coolest python tutorial ever!\n",
    "</div>"
   ]
  },
  {
   "cell_type": "markdown",
   "metadata": {},
   "source": [
    "### 1.3. Getting help\n",
    "Throughout this course, you'll encounter situations in which you have to use functions that you'd like to get some more information on, e.g. which inputs it expects. To get help on any python function you'd like to use, you can simply write the function-name appended with a \"?\" and run the cell. This will open a window below with the \"docstring\" (explanation of the function). Take for example the built-in function **`len()`**. To get some more information, simply type `len?` in a code cell and run.\n",
    "\n",
    "<div class=\"alert alert-warning\">\n",
    "**ToDo**: Create a code cell below, type `len?` and check the output!\n",
    "</div>\n"
   ]
  },
  {
   "cell_type": "markdown",
   "metadata": {},
   "source": [
    "If this method (i.e. appending with \"?\") does not give you enough information, try to google the name of the function together with 'python' and, if you know from which package the function comes, the name of that package. For instance, for len() you could google: ['python len()'](http://lmgtfy.com/?q=python+len), or later when you'll use the numpy package, and you'd like to know how the numpy.arange function works you could google: 'python numpy arange'. \n",
    "\n",
    "** REMEMBER: Google is your friend! Please try to google things first, before you ask your classmates and definitely before you ask the tutors! **\n",
    "\n",
    "The online python community is huge, so someone definitely already wondered about something you might be struggling with."
   ]
  },
  {
   "cell_type": "markdown",
   "metadata": {},
   "source": [
    "### 1.4. Saving your work & closing down the notebook\n",
    "You're running and actively editing the notebook in a browser, but remember that it's still just a file located on your account on the server. Therefore, for your work to persist, you need to save the notebook once in a while (and definitely before closing the notebook). To save, simply press the floppy-disk image in the top-left (or do CTR+s). If you want to close your notebook, simply close the browser. \n",
    "\n",
    "*However, when you close the browser, the notebook is still \"running\" in the background in your terminal where you started it!* \n",
    "\n",
    "To stop the notebook from running, please go to the terminal where you started it, and either close the terminal or press ctr + c in the terminal. Also, if you want to open *another* jupyter notebook (for example the assignment-notebook), simply open a new terminal and start a notebook using the `jupyter notebook [ipynb-file]` command; this will open a new tab in your browser with the new notebook!\n",
    "\n",
    "Alright. Now that you've had your first contact with Jupyter notebooks - let's start the Python tutorial.\n",
    "\n",
    "**NOTE**: if you've done Codeacademy and feel comfortable with Python's syntax, you quickly skip through the next section (until the section on Numpy) or skip it entirely. Also, some parts will overlap quite substantially with the Codeacademy material; this serves as some extra practice material, but can be skipped if comfortable with the discussed concepts."
   ]
  },
  {
   "cell_type": "markdown",
   "metadata": {},
   "source": [
    "## 2. Python intro"
   ]
  },
  {
   "cell_type": "markdown",
   "metadata": {},
   "source": [
    "This section will cover:\n",
    "\n",
    "* Python data types (integers, floats, lists, dictionaries)\n",
    "* Python functions\n",
    "* Python classes\n",
    "* Conditionals (if-then-else)\n",
    "* Loops (for-loop, list-comprehensions)\n",
    "* Imports"
   ]
  },
  {
   "cell_type": "markdown",
   "metadata": {},
   "source": [
    "### 2.1. Structure of Python\n",
    "\n",
    "Python is a multipurpose programming language, meaning it can be used for almost anything. While R is mostly used for statistics, and php is used for web programming only, Python is a general language, specified by the packages you add on to it (using import statements). So, \"pure\" Python provides some basic functionality, but Python's versatility comes from specialized packages for almost any purpose. \n",
    "\n",
    "For example:\n",
    "* the [scipy](https://www.scipy.org/) package provides functionality for scientific computing (e.g. statistics, signal processing);\n",
    "* the [numpy](http://www.numpy.org/) package provides data structures and functionality for (very fast) numeric computing (e.g. multidimensional numeric array computations, some linear algebra);\n",
    "* the [matplotlib](http://matplotlib.org/) package provides plotting functions;\n",
    "* and various specialied neuroimaging packages provide functionality to work and analyze (f)MRI (e.g. [nibabel](http://nipy.org/nibabel/) and [nipype](http://nipy.org/nipype)) and MEG/EEG (e.g. [MNE](http://www.martinos.org/mne/stable/index.html)).\n",
    "\n",
    "Basically, there are packages for everything you can think of (also: creating websites, game programming, etc.)! In this course, we will mostly use basic Python in combination with the scientific computing packages ('numpy', 'scipy') and specialized neuroimaging packages ('nibabel', 'nipype').  "
   ]
  },
  {
   "cell_type": "markdown",
   "metadata": {},
   "source": [
    "#### Import statements\n",
    "As explained above, Python ships with some default functionality. This means that it's already available upon starting a notebook (or any other Python environment) and doesn't need to be imported. An example is the function `len()`."
   ]
  },
  {
   "cell_type": "code",
   "execution_count": null,
   "metadata": {
    "collapsed": true
   },
   "outputs": [],
   "source": [
    "my_list = [1, 2, 3]\n",
    "print(len(my_list))"
   ]
  },
  {
   "cell_type": "markdown",
   "metadata": {},
   "source": [
    "However, non-built-in packages - such as `numpy` - need to be explicitly imported to access their functionality. After importing, their functions are accessible as: `{package}.{function}`.\n",
    "\n",
    "For example:"
   ]
  },
  {
   "cell_type": "code",
   "execution_count": null,
   "metadata": {
    "collapsed": true
   },
   "outputs": [],
   "source": [
    "import numpy\n",
    "\n",
    "# Now you can access the numpy function `add()` as numpy.add()\n",
    "print(numpy.add(5, 3))"
   ]
  },
  {
   "cell_type": "markdown",
   "metadata": {},
   "source": [
    "However, writing `numpy` in front of every function you access from it becomes annoying very quickly. Therefore, we usually abbreviate the package name by two or three characters, which can be achieved through:\n",
    "\n",
    "`import {package} as {abbreviation}`. \n",
    "\n",
    "For example, people usually abbreviate the numpy import as:"
   ]
  },
  {
   "cell_type": "code",
   "execution_count": null,
   "metadata": {
    "collapsed": true
   },
   "outputs": [],
   "source": [
    "import numpy as np\n",
    "\n",
    "# Now you can access numpy functions such as 'add()' as:\n",
    "print np.add(5, 3)"
   ]
  },
  {
   "cell_type": "markdown",
   "metadata": {},
   "source": [
    "Throughout the tutorials, you'll see different packages (e.g. pandas and seaborn) being imported using abbreviations. \n",
    "\n",
    "Also, you don't need to import an *entire* package, but you can also import a specific function or class. This is done as follows:\n",
    "\n",
    "`from {package} import {function1}, {function2}, {etc}`\n",
    "\n",
    "An example:"
   ]
  },
  {
   "cell_type": "code",
   "execution_count": null,
   "metadata": {
    "collapsed": true
   },
   "outputs": [],
   "source": [
    "from numpy import add, subtract\n",
    "\n",
    "# Now I can simply call add() and subtract()\n",
    "print(add(5, 3))"
   ]
  },
  {
   "cell_type": "markdown",
   "metadata": {},
   "source": [
    "Certain python packages also contain sub-packages (modules), for example stats within scipy, that can be called in a similar manner:"
   ]
  },
  {
   "cell_type": "code",
   "execution_count": null,
   "metadata": {
    "collapsed": true
   },
   "outputs": [],
   "source": [
    "from scipy.stats import pearsonr\n",
    "\n",
    "# now we can look up the r-value between two variables\n",
    "a = [1, 4, 6, 7, 8, 5, 6]\n",
    "b = [2, 3, 5, 6, 12, 6, 8]\n",
    "r, p = pearsonr(a,b)\n",
    "\n",
    "print('This is the correlation value for a and b: ' + str(r)) "
   ]
  },
  {
   "cell_type": "markdown",
   "metadata": {},
   "source": [
    "Note that you can mix and match all of these operations to customize the import to your own liking (see cell below for such a fancy import). In this course, we'll usually just import entire packages (e.g. `import numpy as np`) or specific functions/subpackages (e.g. `from scipy import stats`). "
   ]
  },
  {
   "cell_type": "code",
   "execution_count": null,
   "metadata": {
    "collapsed": true
   },
   "outputs": [],
   "source": [
    "# a fancy import\n",
    "from scipy.stats import binom_test as omg_binomial_testing_so_cool\n",
    "\n",
    "print(omg_binomial_testing_so_cool(0.5, 10))"
   ]
  },
  {
   "cell_type": "markdown",
   "metadata": {},
   "source": [
    "<div class=\"alert alert-warning\">\n",
    "**ToDo**: Insert a code cell below and import the function \"randn\" from the numpy subpackage \"random\" and rename it \"random_normal_generator\". Then call random_normal_generator with the number 10 as a parameter.\n",
    "</div>"
   ]
  },
  {
   "cell_type": "markdown",
   "metadata": {},
   "source": [
    "#### Python versions"
   ]
  },
  {
   "cell_type": "markdown",
   "metadata": {},
   "source": [
    "As a side note: there are currently two different supported versions of Python, 2.7 and 3.5. Somewhat confusingly, Python 3.0 introduced many backwards-incompatible changes to the language, so code written for 2.7 may not work under 3.x and vice versa. However, Python 2.7 has stopped being updated and the future is in 3.x so for this class all code will use Python 3.x.\n",
    "\n",
    "**After you've finish this tutorial, we strongly suggest you check some of the key differences between Python 2.7 and Python 3.x! You can do so [here](http://sebastianraschka.com/Articles/2014_python_2_3_key_diff.html). You might run into online examples using either and its imperative that you can quickly spot the difference in order to implement the solutions.**"
   ]
  },
  {
   "cell_type": "markdown",
   "metadata": {},
   "source": [
    "### 2.2 Basic data types\n",
    "\"Pure\" (i.e. built-in) Python has mostly the same data types as you might know from MATLAB or R, such as numbers (integers/floats), strings, and lists (cells in MATLAB; lists in R). Also, Python has to data types that might be unknown to MATLAB/R users, such as \"dictionaries\" and \"tuples\", which are explained later. "
   ]
  },
  {
   "cell_type": "markdown",
   "metadata": {},
   "source": [
    "#### Numbers\n",
    "Numbers are represented either as integers (\"whole\" numbers) or floats (numbers with decimals, basically)."
   ]
  },
  {
   "cell_type": "code",
   "execution_count": null,
   "metadata": {
    "collapsed": true
   },
   "outputs": [],
   "source": [
    "x = 3\n",
    "print(x, type(x)) # use type(variable) to find out of what data-type something is!\n",
    "\n",
    "y = 3.15\n",
    "print(y, type(y))"
   ]
  },
  {
   "cell_type": "markdown",
   "metadata": {},
   "source": [
    "Let's try to change x as defined above with some basic arithmetic operations:"
   ]
  },
  {
   "cell_type": "code",
   "execution_count": null,
   "metadata": {
    "collapsed": true
   },
   "outputs": [],
   "source": [
    "print(x + 1)   # Addition;\n",
    "print(x - 1)   # Subtraction;\n",
    "print(x / 2)   # Division;\n",
    "print(x * 2)   # Multiplication;\n",
    "print(x ** 2)  # Exponentiation;"
   ]
  },
  {
   "cell_type": "markdown",
   "metadata": {},
   "source": [
    "Feel free to play around with these manipulations to check out their effects. \n",
    "\n",
    "The above commands add something to x, but do not change x itself. To permanently change x, you can use the syntax below."
   ]
  },
  {
   "cell_type": "code",
   "execution_count": null,
   "metadata": {
    "collapsed": true
   },
   "outputs": [],
   "source": [
    "x = 3\n",
    "x += 1 # This is the same as: x = x + 1\n",
    "print(x)  \n",
    "x *= 2 # This is the same as: x = x * 2\n",
    "print(x)"
   ]
  },
  {
   "cell_type": "markdown",
   "metadata": {},
   "source": [
    "<div class=\"alert alert-warning\">\n",
    "**ToDo**: in the cell below, make a new variable, `y`, which should contain x minus 5 and subsequently raised to the 4th power. \n",
    "</div>"
   ]
  },
  {
   "cell_type": "code",
   "execution_count": null,
   "metadata": {
    "collapsed": true
   },
   "outputs": [],
   "source": [
    "x = 73\n",
    "y = # for you to fill in!"
   ]
  },
  {
   "cell_type": "markdown",
   "metadata": {},
   "source": [
    "#### Booleans"
   ]
  },
  {
   "cell_type": "markdown",
   "metadata": {},
   "source": [
    "Python implements all of the usual operators for comparisons. Similar to what you might know from other languages, '==' tests equivalence, '!=' for not equivalent, and '<' and '>' for larger/smaller than."
   ]
  },
  {
   "cell_type": "code",
   "execution_count": null,
   "metadata": {
    "collapsed": true
   },
   "outputs": [],
   "source": [
    "a = 3\n",
    "b = 5\n",
    "is_a_equal_to_b = a == b\n",
    "\n",
    "print(is_a_equal_to_b)\n",
    "print(type(is_a_equal_to_b))"
   ]
  },
  {
   "cell_type": "markdown",
   "metadata": {},
   "source": [
    "However, for Boolean logic, python doesn't use operators (such as && for \"and\" and | for \"or\") but uses special (regular English) **words**: "
   ]
  },
  {
   "cell_type": "code",
   "execution_count": null,
   "metadata": {
    "collapsed": true
   },
   "outputs": [],
   "source": [
    "bool_1 = (3 > 5) # False, because 3 is not greater than 5\n",
    "bool_2 = (5 == 5) # True, because, well, 5 is 5\n",
    "\n",
    "print(bool_1 and bool_2) # Logical AND, both have to be True\n",
    "print(bool_1 or bool_2)  # Logical OR, either one of them has to be True\n",
    "print(not bool_1)         # Logical NOT, the inverse of bool_1\n",
    "print(bool_1 != bool_2)   # Logical XOR, yields True when bool_1 and bool_2 are not equal"
   ]
  },
  {
   "cell_type": "markdown",
   "metadata": {},
   "source": [
    "<div class='alert alert-warning'>\n",
    "**ToDo**: Try to change the expression of bool_1 and bool_2 above e.g. try: <br><br>\n",
    "\n",
    "`bool_1 = (1 < 2)`  \n",
    "\n",
    "and see what happens to the boolean logic below - does it make sense?\n",
    "</div>"
   ]
  },
  {
   "cell_type": "code",
   "execution_count": null,
   "metadata": {
    "collapsed": true
   },
   "outputs": [],
   "source": [
    "# Do your ToDo here:\n"
   ]
  },
  {
   "cell_type": "markdown",
   "metadata": {},
   "source": [
    "#### Strings\n",
    "Strings in Python are largely the same as in other languages."
   ]
  },
  {
   "cell_type": "code",
   "execution_count": null,
   "metadata": {
    "collapsed": true
   },
   "outputs": [],
   "source": [
    "h = 'hello'   # String literals can use single quotes\n",
    "w = \"world\"   # or double quotes; it does not matter.\n",
    "\n",
    "print(h)\n",
    "print(len(h))  # see how many characters in this string"
   ]
  },
  {
   "cell_type": "markdown",
   "metadata": {},
   "source": [
    "A very nice feature of Python strings is that they are easy to concatenate: just use '+'!"
   ]
  },
  {
   "cell_type": "code",
   "execution_count": null,
   "metadata": {
    "collapsed": true
   },
   "outputs": [],
   "source": [
    "hw = h + ' ' + w  # String concatenation\n",
    "print(hw)"
   ]
  },
  {
   "cell_type": "markdown",
   "metadata": {},
   "source": [
    "You can also create and combine strings with what is called 'string formatting'. This is accomplished by inserting a placeholder in a string, that you can fill with variables. An example is given below:"
   ]
  },
  {
   "cell_type": "code",
   "execution_count": null,
   "metadata": {
    "collapsed": true
   },
   "outputs": [],
   "source": [
    "# Here, we have a string with a placeholder '%s' (the 's' refers to 'string' placeholder)\n",
    "my_string = 'My favorite programming language is: %s'\n",
    "print('Before formatting:')\n",
    "print(my_string)\n",
    "\n",
    "# Now, to 'fill' the placeholder, do the following:\n",
    "my_fav_language = 'Python'\n",
    "my_string = 'My favorite programming language is: %s' % my_fav_language\n",
    "\n",
    "print('After formatting')\n",
    "print(my_string)"
   ]
  },
  {
   "cell_type": "markdown",
   "metadata": {},
   "source": [
    "You can also use specific placeholders for different data types:"
   ]
  },
  {
   "cell_type": "code",
   "execution_count": null,
   "metadata": {
    "collapsed": true
   },
   "outputs": [],
   "source": [
    "week_no = 1 # integer\n",
    "string1 = 'This is week %i of pattern analysis' % week_no # the %i expects an integer!\n",
    "print(string1)\n",
    "\n",
    "project_score = 99.50 # float\n",
    "string2 = 'I will get a %f on my final project' % project_score\n",
    "print(string2)\n",
    "\n",
    "# You can also combine different types in a string:\n",
    "string3 = 'In week %i of pattern analysis, %s will get a %f for my lab-assignment' % (week_no, \"I\", 95.00)\n",
    "print(string3)"
   ]
  },
  {
   "cell_type": "markdown",
   "metadata": {},
   "source": [
    "For a full list of placeholders see https://docs.python.org/2/library/stdtypes.html#string-formatting-operations"
   ]
  },
  {
   "cell_type": "markdown",
   "metadata": {},
   "source": [
    "<div class='alert alert-warning'>\n",
    "**ToDo**: Using the variables defined below, print the string:<br><br>\n",
    "\n",
    "\"Pattern analysis will be my favorite course 4ever\"\n",
    "</div>"
   ]
  },
  {
   "cell_type": "code",
   "execution_count": null,
   "metadata": {
    "collapsed": true
   },
   "outputs": [],
   "source": [
    "to_print = \"%s will be my favorite course %iever\" % # add something here!\n",
    "print(to_print)"
   ]
  },
  {
   "cell_type": "markdown",
   "metadata": {},
   "source": [
    "Another way for string formatting is the .format function, in which there is no need to define the data type within the placeholder.\n",
    "\n",
    "The placeholder is now a curly bracket ({}), which should contain a number (if not, the format is just done in order) which corresponds to the index of the value you want for the placeholder.\n",
    "\n",
    "Of course you can just enter the desired values for the placeholders in the correct order, but for readability its suggestible to use indices."
   ]
  },
  {
   "cell_type": "code",
   "execution_count": null,
   "metadata": {
    "collapsed": true,
    "scrolled": true
   },
   "outputs": [],
   "source": [
    "str_format_n = 3\n",
    "str_form_str = 'lets stop here!'\n",
    "\n",
    "# without indexing\n",
    "t1 = 'This is string format number {}, {}'.format(str_format_n, str_form_str) # notice the order is incorrect\n",
    "# with indexing\n",
    "t2 = 'This is string format number {0}, {1}'.format(str_format_n, str_form_str) # python starts indexing with 0\n",
    "print(t1)\n",
    "print(t2)"
   ]
  },
  {
   "cell_type": "markdown",
   "metadata": {},
   "source": [
    "<div class='alert alert-warning'>\n",
    "**ToDo**: Fix the code cell below so it prints the correct text\n",
    "</div>"
   ]
  },
  {
   "cell_type": "code",
   "execution_count": null,
   "metadata": {
    "collapsed": true
   },
   "outputs": [],
   "source": [
    "p = 'Python is'\n",
    "y = 'effective language'\n",
    "u = 'a very intuitive and'\n",
    "\n",
    "# For you to fix by indexing\n",
    "to_print = '{} {} {}!'.format(y,u,p)\n",
    "\n",
    "print(to_print)"
   ]
  },
  {
   "cell_type": "markdown",
   "metadata": {},
   "source": [
    "#### Lists\n",
    "A list is the Python equivalent of an array, but can be resized and can contain elements of different types. It is similar to a list in R and a cell in MATLAB. Note that indices in python start with 0! This means that the 3rd element of the list below is accessed through [2]:"
   ]
  },
  {
   "cell_type": "code",
   "execution_count": null,
   "metadata": {
    "collapsed": true
   },
   "outputs": [],
   "source": [
    "xs = [3, 1, 2]   # create a list\n",
    "print(xs)\n",
    "print(xs[2])\n",
    "print(xs[-1])     # Negative indices count from the end of the list; prints \"2\"\n",
    "\n",
    "# Also, it can contain different types, including lists themselves!\n",
    "xy = [1, 2, [1, 2, 3], \"my_string\"]\n",
    "print(xy)\n",
    "\n",
    "# And it's easy to change list entries\n",
    "xy[0] = 'whatever'\n",
    "\n",
    "# and nested lists\n",
    "xy[2][0] = 'another string'\n",
    "print(xy)"
   ]
  },
  {
   "cell_type": "markdown",
   "metadata": {},
   "source": [
    "In addition to accessing list elements one at a time, Python provides concise syntax to access specific parts of a list (sublists); this is known as slicing:\n",
    "\n",
    "( you can read about range [here](http://pythoncentral.io/pythons-range-function-explained/) )"
   ]
  },
  {
   "cell_type": "code",
   "execution_count": null,
   "metadata": {
    "collapsed": true
   },
   "outputs": [],
   "source": [
    "# List and range are built in functions.\n",
    "# In Python 3 range is a generator that creates a range of numbers, and we can make a list out of those\n",
    "# by calling the list function (in python 2.7 this is done automatically)\n",
    "nums = list(range(5)) # generate 5 numbers (0 to 4), convert generator to list\n",
    "print(nums)         # Prints \"[0, 1, 2, 3, 4]\"\n",
    "print(nums[2:4])    # Get a slice from index 2 to 4 (exclusive); prints \"[2, 3]\"\n",
    "print(nums[2:])     # Get a slice from index 2 to the end; prints \"[2, 3, 4]\"\n",
    "print(nums[:2])     # Get a slice from the start to index 2 (exclusive); prints \"[0, 1]\"\n",
    "print(nums[:])      # Get a slice of the whole list; prints [\"0, 1, 2, 3, 4]\"\n",
    "print(nums[:-1])    # Slice indices can be negative; prints [\"0, 1, 2, 3]\"\n",
    "print(nums[::2])    # return values in steps of 2\n",
    "print(nums[1::2])   # returns values in steps of 2, but starting from the second element\n",
    "nums[2:4] = [8, 9] # Assign a new sublist to a slice\n",
    "print(nums)         # Prints \"[0, 1, 8, 9, 4]\""
   ]
  },
  {
   "cell_type": "markdown",
   "metadata": {},
   "source": [
    "Importantly, slicing in Python is \"end exclusive\", which means that the last index in your slice is not returned. Thus:\n",
    "\n",
    "nums = np.arange(10)\n",
    "nums[0:5] returns 0 up till and including 4 (not 5!).\n",
    "\n",
    "Check it out below:"
   ]
  },
  {
   "cell_type": "code",
   "execution_count": null,
   "metadata": {
    "collapsed": true
   },
   "outputs": [],
   "source": [
    "nums = list(range(10))\n",
    "print(nums[0:5])"
   ]
  },
  {
   "cell_type": "markdown",
   "metadata": {},
   "source": [
    "<div class='alert alert-warning'>\n",
    "**ToDo**: Fix the error and from the code cell below, extract the numbers 2, 3, 4, 5, and 6 using a slice!\n",
    "</div>"
   ]
  },
  {
   "cell_type": "code",
   "execution_count": null,
   "metadata": {
    "collapsed": true
   },
   "outputs": [],
   "source": [
    "my_list = range(20)\n",
    "print # your answer here"
   ]
  },
  {
   "cell_type": "markdown",
   "metadata": {},
   "source": [
    "<div class='alert alert-warning'>\n",
    "**ToDo**: from the list below (number from 0 to 19), extract the values 5, 7, 9 using a slice.\n",
    "</div>\n"
   ]
  },
  {
   "cell_type": "code",
   "execution_count": null,
   "metadata": {
    "collapsed": true
   },
   "outputs": [],
   "source": [
    "my_list = range(list(20))\n",
    "print # your answer goes here"
   ]
  },
  {
   "cell_type": "markdown",
   "metadata": {},
   "source": [
    "<div class='alert alert-warning'>\n",
    "**ToDo**: And a slightly more difficult one: extract the sublist 19, 16, 13 from a list with numbers 0 to 20:\n",
    "</div>"
   ]
  },
  {
   "cell_type": "code",
   "execution_count": null,
   "metadata": {
    "collapsed": true
   },
   "outputs": [],
   "source": [
    "my_list = # for you to fill out\n",
    "print # your answer goes here"
   ]
  },
  {
   "cell_type": "markdown",
   "metadata": {},
   "source": [
    "#### Dictionaries\n",
    "Dictionaries might be new for those who are used to MATLAB or R. Basically, a dictionary is an **unordered** list in which list entries have a name (or more generally, a \"key\"). To get a value from a dictionary, you have to use the \"key\" as index instead of using an integer:"
   ]
  },
  {
   "cell_type": "code",
   "execution_count": null,
   "metadata": {
    "collapsed": true
   },
   "outputs": [],
   "source": [
    "d = {'cat': 'cute', 'dog': 'furry'}  # Create a new dictionary with some data\n",
    "print(d['cat'])       # Get an entry from a dictionary by indexing with the key!"
   ]
  },
  {
   "cell_type": "markdown",
   "metadata": {},
   "source": [
    "It is easy to add entries to a dictionary:"
   ]
  },
  {
   "cell_type": "code",
   "execution_count": null,
   "metadata": {
    "collapsed": true
   },
   "outputs": [],
   "source": [
    "d['fish'] = 'wet'    # Set an entry in a dictionary\n",
    "print(d['fish'])      # Prints \"wet\""
   ]
  },
  {
   "cell_type": "markdown",
   "metadata": {},
   "source": [
    "Like a list, an entry in a dictionary can be of any data type:"
   ]
  },
  {
   "cell_type": "code",
   "execution_count": null,
   "metadata": {
    "collapsed": true
   },
   "outputs": [],
   "source": [
    "d['rabbit'] = ['omg', 'so', 'cute']\n",
    "print(d['rabbit'])"
   ]
  },
  {
   "cell_type": "markdown",
   "metadata": {},
   "source": [
    "If you try to 'index' a dictionary with a key that doesn't exist, it raises a \"KeyError\":"
   ]
  },
  {
   "cell_type": "code",
   "execution_count": null,
   "metadata": {
    "collapsed": true
   },
   "outputs": [],
   "source": [
    "print(d['monkey'])"
   ]
  },
  {
   "cell_type": "markdown",
   "metadata": {},
   "source": [
    "<div class='alert alert-warning'>\n",
    "**ToDo**: Add a new key to the dictionary `d` named \"mouse\" and with the value 5.\n",
    "</div>"
   ]
  },
  {
   "cell_type": "code",
   "execution_count": null,
   "metadata": {
    "collapsed": true
   },
   "outputs": [],
   "source": [
    "# Do the ToDo here"
   ]
  },
  {
   "cell_type": "markdown",
   "metadata": {},
   "source": [
    "#### tuples\n",
    "Tuples are very much like lists, but the main difference is that they are immutable. In other words, after creating them, they cannot be modified:"
   ]
  },
  {
   "cell_type": "code",
   "execution_count": null,
   "metadata": {
    "collapsed": true
   },
   "outputs": [],
   "source": [
    "# A list can be modified ...\n",
    "my_list = [1, 2, 3]\n",
    "my_list[0] = 0\n",
    "print(my_list)"
   ]
  },
  {
   "cell_type": "code",
   "execution_count": null,
   "metadata": {
    "collapsed": true
   },
   "outputs": [],
   "source": [
    "# ... but a tuple cannot.\n",
    "my_tuple = (1, 2, 3)\n",
    "print(my_tuple[0]) # you can print parts of tuple ...\n",
    "my_tuple[0] = 0   # but you cannot modify it!"
   ]
  },
  {
   "cell_type": "markdown",
   "metadata": {},
   "source": [
    "You probably won't use tuples a lot, but you might come across them when a function returns more than one output:"
   ]
  },
  {
   "cell_type": "code",
   "execution_count": null,
   "metadata": {
    "collapsed": true
   },
   "outputs": [],
   "source": [
    "def my_epic_function(integer):\n",
    "    \n",
    "    return integer, integer * 2\n",
    "\n",
    "outputs = my_epic_function(10)\n",
    "print(outputs)\n",
    "print(type(outputs))\n",
    "\n",
    "# also, you can unpack tuples (and also lists) as follows:\n",
    "output1, output2 = outputs\n",
    "print(output2)"
   ]
  },
  {
   "cell_type": "markdown",
   "metadata": {},
   "source": [
    "### 2.3 Functions and methods"
   ]
  },
  {
   "cell_type": "markdown",
   "metadata": {},
   "source": [
    "You might be familiar with functions from other environments (such as MatLab). In python you create a function by:\n",
    "\n",
    "def {function_name}({function_parameters}):\n",
    "\n",
    "    {function_operations}\n",
    "    return {result}\n",
    "\n",
    "You have to explicitly state what you want to **return** from the function by the \"return\" statement. Importantly, without this return statement, your Python environment cannot access the variables in the function. \n",
    "\n",
    "Below, an example *without* a return statement is outlined (run the cell to define the function):"
   ]
  },
  {
   "cell_type": "code",
   "execution_count": null,
   "metadata": {
    "collapsed": true
   },
   "outputs": [],
   "source": [
    "def add_2_to_number(number):\n",
    "    new_number = number + 2"
   ]
  },
  {
   "cell_type": "markdown",
   "metadata": {},
   "source": [
    "Now, if we call the function \"add_2_to_number\", Python actually won't \"find\" this variable and it will raise an error, because we haven't returned it (try it out below by running the cell):"
   ]
  },
  {
   "cell_type": "code",
   "execution_count": null,
   "metadata": {
    "collapsed": true
   },
   "outputs": [],
   "source": [
    "add_2_to_number(5)\n",
    "print(new_number)"
   ]
  },
  {
   "cell_type": "markdown",
   "metadata": {},
   "source": [
    "Let's redefine our function and include a return statement (note: we'll overwrite the old function). Run the cell below:"
   ]
  },
  {
   "cell_type": "code",
   "execution_count": null,
   "metadata": {
    "collapsed": true
   },
   "outputs": [],
   "source": [
    "def add_2_to_number(number):\n",
    "    new_number = number + 2\n",
    "    return new_number\n",
    "\n",
    "# note that we could also have done: return number + 2 and omit the new_number line "
   ]
  },
  {
   "cell_type": "code",
   "execution_count": null,
   "metadata": {
    "collapsed": true
   },
   "outputs": [],
   "source": [
    "# Let's try it out!\n",
    "output_from_function = add_2_to_number(2)\n",
    "print(\"Output from the add_2_to_number function is: {0}\".format(output_from_function))"
   ]
  },
  {
   "cell_type": "markdown",
   "metadata": {},
   "source": [
    "Note that you can name the output of the function whatever you like! In this case, as you can see above (in which we used `output_from_function`), this doesn't have to be called `new_number`. You can name it whatever (e.g. `omg_awesome_output_lolz`) - Python doesn't care. "
   ]
  },
  {
   "cell_type": "markdown",
   "metadata": {},
   "source": [
    "<div class='alert alert-warning'>\n",
    "**ToDo**: in the code cell below, write a function, called `extract_last_element`, that takes one input-argument - a list - and returns the last element of the list. Then, call the function in the cell below that (starting with # test your function!)\n",
    "</div>"
   ]
  },
  {
   "cell_type": "code",
   "execution_count": null,
   "metadata": {
    "collapsed": true
   },
   "outputs": [],
   "source": [
    "# implement your function here!\n"
   ]
  },
  {
   "cell_type": "code",
   "execution_count": null,
   "metadata": {
    "collapsed": true
   },
   "outputs": [],
   "source": [
    "# test your function!\n",
    "my_list = [0, 1, 2, 3, 4, 5]\n",
    "print(extract_last_element(my_list))"
   ]
  },
  {
   "cell_type": "markdown",
   "metadata": {},
   "source": [
    "#### Methods\n",
    "However, in Python, functions are not the only things that allow you to 'do' things with data. In others' code, you'll often see function-like expressions written with periods, like this: some_variable.function(). These .function() parts are called 'methods', which are like functions 'inherent' to an object (We will talk more about objects later when using python classes). In other words, it is a function that is applied to the object it belongs to. \n",
    "\n",
    "Different type of objects in Python, such as strings and lists, have their own set of methods. For example, the function you defined above ('extract_last_element()') also exists as a method each list has, called 'pop()'! (This is a builtin, standard, method that each list in Python has.) See for yourself in the block below.\n",
    "<div class='alert alert-warning'>\n",
    "**Tip** to see a comprehensive list of methods within jupyter, just type {object_name}.[press tab]\n",
    "</div>"
   ]
  },
  {
   "cell_type": "code",
   "execution_count": null,
   "metadata": {
    "collapsed": true
   },
   "outputs": [],
   "source": [
    "my_list = [0, 5, 10, 15] \n",
    "print(my_list.pop())\n",
    "\n",
    "# You can also just do the following (i.e. no need to define a variable first!):\n",
    "print([0, 5, 10, 15].pop())\n",
    "\n",
    "# which is the same as:\n",
    "print(extract_last_element(my_list))"
   ]
  },
  {
   "cell_type": "markdown",
   "metadata": {},
   "source": [
    "Not only lists, but also other data-types (such as strings, dictionaries, and, as we'll see later, numpy arrays) have their own methods. How methods work exactly is not really important, but it is necessary to know **what** it does, as you'll see them a lot throughout this course. \n",
    "\n",
    "Just a couple of (often-used) examples:"
   ]
  },
  {
   "cell_type": "code",
   "execution_count": null,
   "metadata": {
    "collapsed": true
   },
   "outputs": [],
   "source": [
    "# For lists\n",
    "x = [0, 10, 15]\n",
    "x.append(20) # Add a new element to the end of the list using the append() method!\n",
    "print(x)"
   ]
  },
  {
   "cell_type": "code",
   "execution_count": null,
   "metadata": {
    "collapsed": true
   },
   "outputs": [],
   "source": [
    "my_dict = {'a': 0, 'b': 1, 'c': 2}\n",
    "print(my_dict.values())\n",
    "print(my_dict.keys())"
   ]
  },
  {
   "cell_type": "markdown",
   "metadata": {},
   "source": [
    "#### Default arguments in functions/methods\n",
    "Importantly, and unlike most (scientific) programming languages, Python supports the use of 'default' arguments in functions. Basically, if you don't specify an optional argument, it uses the default:"
   ]
  },
  {
   "cell_type": "code",
   "execution_count": null,
   "metadata": {
    "collapsed": true
   },
   "outputs": [],
   "source": [
    "def exponentiate_number(number, power=2):\n",
    "    return number ** power\n",
    "\n",
    "print(exponentiate_number(2)) # now it uses the default!\n",
    "print(exponentiate_number(2, 10))\n",
    "print(exponentiate_number(number=2, power=10)) # also note that you can 'name' arguments "
   ]
  },
  {
   "cell_type": "markdown",
   "metadata": {},
   "source": [
    "### 2.4 Loops\n",
    "Loops in Python (for- and while-loops) are largely similar to MATLAB and R loops, except for their syntax:"
   ]
  },
  {
   "cell_type": "code",
   "execution_count": null,
   "metadata": {
    "collapsed": true
   },
   "outputs": [],
   "source": [
    "animals = ['cat', 'dog', 'monkey']\n",
    "for animal in animals:\n",
    "    print(animal)"
   ]
  },
  {
   "cell_type": "markdown",
   "metadata": {},
   "source": [
    "Basically, each data type that is a type of \"iterable\" (something that you can iterate over) can be used in loops, including lists, dictionaries, and tuples."
   ]
  },
  {
   "cell_type": "code",
   "execution_count": null,
   "metadata": {
    "collapsed": true
   },
   "outputs": [],
   "source": [
    "# An example of looping over a list\n",
    "my_list = [1, 2, 3]\n",
    "for x in my_list:\n",
    "    print(x)\n",
    "    \n",
    "# which is equal to\n",
    "for x in range(1,4): # Notice you don't have to make it into a list\n",
    "    print(x)"
   ]
  },
  {
   "cell_type": "markdown",
   "metadata": {},
   "source": [
    "MATLAB users might be used to looping over indices instead of the actual list entries, like the following:\n",
    "\n",
    "`for i=1:100\n",
    "    do something\n",
    "end`\n",
    "\n",
    "In Python, however, you loop over the contents of a list:\n",
    "\n",
    "`for entry in some_list:\n",
    "    print entry`\n",
    "    \n",
    "If you want to access for the entry AND the index, you can use the built-in `enumerate` function:"
   ]
  },
  {
   "cell_type": "code",
   "execution_count": null,
   "metadata": {
    "collapsed": true
   },
   "outputs": [],
   "source": [
    "my_list = ['a', 'b', 'c']\n",
    "for index, entry in enumerate(my_list):\n",
    "    \n",
    "    print('Loop iteration number (index) = {0}, entry={1}'.format(index, entry))\n",
    "\n",
    "# Don't forget that Python indexing starts at zero!"
   ]
  },
  {
   "cell_type": "code",
   "execution_count": null,
   "metadata": {
    "collapsed": true
   },
   "outputs": [],
   "source": [
    "# Looping over a tuple (exactly the same as looping over a list)\n",
    "my_tuple = (1, 2, 3)\n",
    "for x in my_tuple:\n",
    "    print(x)"
   ]
  },
  {
   "cell_type": "code",
   "execution_count": null,
   "metadata": {
    "collapsed": true
   },
   "outputs": [],
   "source": [
    "# Iterating over a dictionary can be done in a couple of ways!\n",
    "my_dict = {'a': 1, 'b': 2, 'c': 3}\n",
    "\n",
    "# Looping over the keys ONLY\n",
    "for key in my_dict:\n",
    "    print(key)"
   ]
  },
  {
   "cell_type": "code",
   "execution_count": null,
   "metadata": {
    "collapsed": true
   },
   "outputs": [],
   "source": [
    "# Looping over both the keys and the entries\n",
    "for key, entry in my_dict.items():\n",
    "    print(key, entry)"
   ]
  },
  {
   "cell_type": "markdown",
   "metadata": {},
   "source": [
    "#### Advanced loops: list comprehensions"
   ]
  },
  {
   "cell_type": "markdown",
   "metadata": {},
   "source": [
    "Sometimes, writing (and reading!) for-loops can be confusing and lead to \"ugly\" code. Wouldn't it be nice to represent (small) for-loops on a single line? Python has a way to do this: using what is called `list comprehensions`. It does exactly the same thing as a for-loop: it takes a list, iterates over its entries (and does something with each entry), and (optionally) returns a (modified) list. \n",
    "\n",
    "Let's look at an arbitrary example of a for-loop over a list:"
   ]
  },
  {
   "cell_type": "code",
   "execution_count": null,
   "metadata": {
    "collapsed": true
   },
   "outputs": [],
   "source": [
    "nums = [0, 1, 2, 3, 4]\n",
    "\n",
    "# Also, check out the way 'enumerate' is used here!\n",
    "for index, x in enumerate(nums):\n",
    "    nums[index] = x ** 2\n",
    "\n",
    "print(nums)"
   ]
  },
  {
   "cell_type": "markdown",
   "metadata": {},
   "source": [
    "You can make this code simpler using a list comprehension:"
   ]
  },
  {
   "cell_type": "code",
   "execution_count": null,
   "metadata": {
    "collapsed": true
   },
   "outputs": [],
   "source": [
    "nums = [0, 1, 2, 3, 4]\n",
    "squares = [x ** 2 for x in nums] # importantly, a list comprehension always returns a (modified) list!\n",
    "print(squares)"
   ]
  },
  {
   "cell_type": "markdown",
   "metadata": {},
   "source": [
    "Also, list comprehensions may contain if-statements!"
   ]
  },
  {
   "cell_type": "code",
   "execution_count": null,
   "metadata": {
    "collapsed": true
   },
   "outputs": [],
   "source": [
    "string_nums = ['one', 'two', 'three']\n",
    "starts_with_t = ['yes' if s[0] == 't' else 'no' for s in string_nums]\n",
    "print(starts_with_t)"
   ]
  },
  {
   "cell_type": "markdown",
   "metadata": {},
   "source": [
    "List comprehensions are somewhat of a more advanced Python concept, so if you don't feel comfortable using them (correctly) in your future assignments, use regular for-loops by all means! In the upcoming tutorials, though, we'll definitely use them, so make sure you understand what they do!"
   ]
  }
 ],
 "metadata": {
  "kernelspec": {
   "display_name": "Python 3",
   "language": "python",
   "name": "python3"
  },
  "language_info": {
   "codemirror_mode": {
    "name": "ipython",
    "version": 3
   },
   "file_extension": ".py",
   "mimetype": "text/x-python",
   "name": "python",
   "nbconvert_exporter": "python",
   "pygments_lexer": "ipython3",
   "version": "3.6.0"
  }
 },
 "nbformat": 4,
 "nbformat_minor": 1
}
